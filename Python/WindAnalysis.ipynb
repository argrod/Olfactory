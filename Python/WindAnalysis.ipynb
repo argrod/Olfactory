{
 "cells": [
  {
   "cell_type": "markdown",
   "metadata": {},
   "source": [
    "# Wind and foraging interaction\n",
    "\n",
    "Analysing the wind characteristics of streaked shearwaters as they approach foraging points allows us to examine what conditions the birds travel in throughout foraging trips."
   ]
  },
  {
   "cell_type": "code",
   "execution_count": 1,
   "metadata": {},
   "outputs": [
    {
     "data": {
      "text/html": [
       "<style type='text/css'>\n",
       ".datatable table.frame { margin-bottom: 0; }\n",
       ".datatable table.frame thead { border-bottom: none; }\n",
       ".datatable table.frame tr.coltypes td {  color: #FFFFFF;  line-height: 6px;  padding: 0 0.5em;}\n",
       ".datatable .bool    { background: #DDDD99; }\n",
       ".datatable .object  { background: #565656; }\n",
       ".datatable .int     { background: #5D9E5D; }\n",
       ".datatable .float   { background: #4040CC; }\n",
       ".datatable .str     { background: #CC4040; }\n",
       ".datatable .time    { background: #40CC40; }\n",
       ".datatable .row_index {  background: var(--jp-border-color3);  border-right: 1px solid var(--jp-border-color0);  color: var(--jp-ui-font-color3);  font-size: 9px;}\n",
       ".datatable .frame tbody td { text-align: left; }\n",
       ".datatable .frame tr.coltypes .row_index {  background: var(--jp-border-color0);}\n",
       ".datatable th:nth-child(2) { padding-left: 12px; }\n",
       ".datatable .hellipsis {  color: var(--jp-cell-editor-border-color);}\n",
       ".datatable .vellipsis {  background: var(--jp-layout-color0);  color: var(--jp-cell-editor-border-color);}\n",
       ".datatable .na {  color: var(--jp-cell-editor-border-color);  font-size: 80%;}\n",
       ".datatable .sp {  opacity: 0.25;}\n",
       ".datatable .footer { font-size: 9px; }\n",
       ".datatable .frame_dimensions {  background: var(--jp-border-color3);  border-top: 1px solid var(--jp-border-color0);  color: var(--jp-ui-font-color3);  display: inline-block;  opacity: 0.6;  padding: 1px 10px 1px 5px;}\n",
       "</style>\n"
      ],
      "text/plain": [
       "<IPython.core.display.HTML object>"
      ]
     },
     "metadata": {},
     "output_type": "display_data"
    }
   ],
   "source": [
    "import pandas as pd\n",
    "import numpy as np\n",
    "import os, re, glob, pyproj, math, datetime\n",
    "from sys import platform\n",
    "import datatable as dt\n",
    "import matplotlib.pyplot as plt\n",
    "import seaborn as sns\n",
    "import scipy\n",
    "import re\n",
    "import seaborn as sns\n",
    "import math"
   ]
  },
  {
   "cell_type": "markdown",
   "metadata": {},
   "source": [
    "## Data\n",
    "\n",
    "Foraging estimates, as calculated from a recently generated [behaviour acceleration algorithm](https://journals.plos.org/plosone/article?id=10.1371/journal.pone.0254454), are read in alongside [wind estimates calculate from seabird GPS tracks](https://www.science.org/doi/10.1126/sciadv.1700097)."
   ]
  },
  {
   "cell_type": "code",
   "execution_count": 6,
   "metadata": {},
   "outputs": [],
   "source": [
    "# read in data\n",
    "if platform == \"darwin\":\n",
    "    fileloc = \"/Volumes/GoogleDrive/My Drive/PhD/Data/2018Shearwater/TxtDat/AxyTrek/AlgorithmOutputUpdate/PredictedForage/\"\n",
    "else:\n",
    "    fileloc = \"E:/My Drive/PhD/Data/2018Shearwater/TxtDat/AxyTrek/AlgorithmOutputUpdate/PredictedForage/\"\n",
    "\n",
    "files = glob.glob(fileloc+\"*ForageGPS.txt\")\n",
    "\n",
    "forDat = []\n",
    "for b in files:\n",
    "    new = pd.read_csv(b)\n",
    "    new.insert(0,'ID',re.findall('[0-9\\-]+',re.search('.*PredictedForage(.+?)_S*',b).group(1)) * len(new))\n",
    "    forDat.append(new)\n",
    "\n",
    "for df in forDat:\n",
    "    df.loc[:,'DT'] = pd.to_datetime(df.loc[:,'DT'],format=\"%d/%m/%Y %H:%M:%S.%f\")\n",
    "# wind data\n",
    "if platform == \"darwin\":\n",
    "    windloc = \"/Volumes/GoogleDrive/My Drive/PhD/Data/2018Shearwater/WindEst/MinDat/\"\n",
    "else:\n",
    "    windloc = \"E:/My Drive/PhD/Data/2018Shearwater/WindEst/MinDat/\"\n",
    "\n",
    "wfiles = glob.glob(windloc+\"*.csv\")\n",
    "wDat = []\n",
    "for b in wfiles:\n",
    "    new = pd.read_csv(b,names=[\"DT\",\"Lat\",\"Lon\",\"BHead\",\"X\",\"Y\"])\n",
    "    new.insert(0,\"ID\",re.findall('[0-9\\-]+',re.search('.*MinDat(.+?)_S*',b).group(1)) * len(new))\n",
    "    wDat.append(new)\n",
    "for df in wDat:\n",
    "    df.loc[:,'DT'] = pd.to_datetime(df.loc[:,'DT'],format=\"%Y/%m/%d %H:%M:%S\")"
   ]
  },
  {
   "cell_type": "markdown",
   "metadata": {},
   "source": [
    "## Relative position/time to foraging\n",
    "\n",
    "For each wind estimation point, the nearest proceeding foraging point is calculated with the distance and time from the next foraging spot calculated."
   ]
  },
  {
   "cell_type": "code",
   "execution_count": 8,
   "metadata": {},
   "outputs": [],
   "source": [
    "def DistTimeTo(dt,lat,lon,id,dat):\n",
    "    try:\n",
    "        forPoint = np.nanmin(np.where((dat['Forage'] == 1) & (dat['ID'] == id) & (dat['DT'] > dt)))\n",
    "        tdiff = (dat.loc[forPoint,'DT'] - dt)/np.timedelta64(1,'s')\n",
    "        azimuth1, azimuth2, distance = pyproj.Geod(ellps='WGS84').inv(dat.loc[forPoint,'Lon'],dat.loc[forPoint,'Lat'],lon,lat)\n",
    "    except:\n",
    "        tdiff = float(\"NaN\")\n",
    "        distance=float(\"NaN\")\n",
    "    return tdiff,distance/1000\n",
    "wDatn = []\n",
    "for tst in wDat:\n",
    "    ind = []\n",
    "    for df in forDat:\n",
    "        if df.loc[1,'ID'] == tst.loc[1,'ID']:\n",
    "            ind = df\n",
    "    tmp = [DistTimeTo(tst.loc[b,'DT'],tst.loc[b,'Lat'],tst.loc[b,'Lon'],tst.loc[b,'ID'],ind) for b in range(len(tst))]\n",
    "    tst.insert(len(tst.columns),'timeTo',[row[0] for row in tmp])\n",
    "    tst.insert(len(tst.columns),'distTo',[row[1] for row in tmp])"
   ]
  },
  {
   "cell_type": "code",
   "execution_count": 9,
   "metadata": {},
   "outputs": [
    {
     "data": {
      "text/html": [
       "<div>\n",
       "<style scoped>\n",
       "    .dataframe tbody tr th:only-of-type {\n",
       "        vertical-align: middle;\n",
       "    }\n",
       "\n",
       "    .dataframe tbody tr th {\n",
       "        vertical-align: top;\n",
       "    }\n",
       "\n",
       "    .dataframe thead th {\n",
       "        text-align: right;\n",
       "    }\n",
       "</style>\n",
       "<table border=\"1\" class=\"dataframe\">\n",
       "  <thead>\n",
       "    <tr style=\"text-align: right;\">\n",
       "      <th></th>\n",
       "      <th>ID</th>\n",
       "      <th>DT</th>\n",
       "      <th>Lat</th>\n",
       "      <th>Lon</th>\n",
       "      <th>BHead</th>\n",
       "      <th>X</th>\n",
       "      <th>Y</th>\n",
       "      <th>timeTo</th>\n",
       "      <th>distTo</th>\n",
       "    </tr>\n",
       "  </thead>\n",
       "  <tbody>\n",
       "    <tr>\n",
       "      <th>0</th>\n",
       "      <td>2017-9</td>\n",
       "      <td>2018-09-03 04:19:00</td>\n",
       "      <td>39.46372</td>\n",
       "      <td>142.10781</td>\n",
       "      <td>0.998923</td>\n",
       "      <td>0.230363</td>\n",
       "      <td>-0.251087</td>\n",
       "      <td>245125.0</td>\n",
       "      <td>515.447989</td>\n",
       "    </tr>\n",
       "    <tr>\n",
       "      <th>1</th>\n",
       "      <td>2017-9</td>\n",
       "      <td>2018-09-03 04:20:00</td>\n",
       "      <td>39.46852</td>\n",
       "      <td>142.11108</td>\n",
       "      <td>1.006208</td>\n",
       "      <td>0.067269</td>\n",
       "      <td>-0.148363</td>\n",
       "      <td>245065.0</td>\n",
       "      <td>514.851725</td>\n",
       "    </tr>\n",
       "    <tr>\n",
       "      <th>2</th>\n",
       "      <td>2017-9</td>\n",
       "      <td>2018-09-03 04:21:00</td>\n",
       "      <td>39.47314</td>\n",
       "      <td>142.11494</td>\n",
       "      <td>1.028696</td>\n",
       "      <td>0.042637</td>\n",
       "      <td>-0.083627</td>\n",
       "      <td>245005.0</td>\n",
       "      <td>514.241635</td>\n",
       "    </tr>\n",
       "    <tr>\n",
       "      <th>3</th>\n",
       "      <td>2017-9</td>\n",
       "      <td>2018-09-03 04:22:00</td>\n",
       "      <td>39.47718</td>\n",
       "      <td>142.11913</td>\n",
       "      <td>1.028673</td>\n",
       "      <td>0.042713</td>\n",
       "      <td>-0.083553</td>\n",
       "      <td>244945.0</td>\n",
       "      <td>513.666755</td>\n",
       "    </tr>\n",
       "    <tr>\n",
       "      <th>4</th>\n",
       "      <td>2017-9</td>\n",
       "      <td>2018-09-03 04:24:00</td>\n",
       "      <td>39.48570</td>\n",
       "      <td>142.12705</td>\n",
       "      <td>1.024066</td>\n",
       "      <td>-0.166575</td>\n",
       "      <td>0.038019</td>\n",
       "      <td>244825.0</td>\n",
       "      <td>512.500984</td>\n",
       "    </tr>\n",
       "    <tr>\n",
       "      <th>...</th>\n",
       "      <td>...</td>\n",
       "      <td>...</td>\n",
       "      <td>...</td>\n",
       "      <td>...</td>\n",
       "      <td>...</td>\n",
       "      <td>...</td>\n",
       "      <td>...</td>\n",
       "      <td>...</td>\n",
       "      <td>...</td>\n",
       "    </tr>\n",
       "    <tr>\n",
       "      <th>283</th>\n",
       "      <td>2017-9</td>\n",
       "      <td>2018-09-06 05:14:00</td>\n",
       "      <td>43.05575</td>\n",
       "      <td>145.43083</td>\n",
       "      <td>-1.834442</td>\n",
       "      <td>-4.049100</td>\n",
       "      <td>4.635641</td>\n",
       "      <td>7925.0</td>\n",
       "      <td>47.032203</td>\n",
       "    </tr>\n",
       "    <tr>\n",
       "      <th>284</th>\n",
       "      <td>2017-9</td>\n",
       "      <td>2018-09-06 05:15:00</td>\n",
       "      <td>43.05360</td>\n",
       "      <td>145.42589</td>\n",
       "      <td>-1.834910</td>\n",
       "      <td>-4.004563</td>\n",
       "      <td>4.601397</td>\n",
       "      <td>7865.0</td>\n",
       "      <td>46.564683</td>\n",
       "    </tr>\n",
       "    <tr>\n",
       "      <th>285</th>\n",
       "      <td>2017-9</td>\n",
       "      <td>2018-09-06 05:20:00</td>\n",
       "      <td>43.04119</td>\n",
       "      <td>145.40137</td>\n",
       "      <td>-1.796466</td>\n",
       "      <td>-4.143610</td>\n",
       "      <td>4.622200</td>\n",
       "      <td>7565.0</td>\n",
       "      <td>44.153806</td>\n",
       "    </tr>\n",
       "    <tr>\n",
       "      <th>286</th>\n",
       "      <td>2017-9</td>\n",
       "      <td>2018-09-06 05:21:00</td>\n",
       "      <td>43.03801</td>\n",
       "      <td>145.39805</td>\n",
       "      <td>-1.795401</td>\n",
       "      <td>-4.148359</td>\n",
       "      <td>4.612309</td>\n",
       "      <td>7505.0</td>\n",
       "      <td>43.750272</td>\n",
       "    </tr>\n",
       "    <tr>\n",
       "      <th>287</th>\n",
       "      <td>2017-9</td>\n",
       "      <td>2018-09-06 05:22:00</td>\n",
       "      <td>43.03611</td>\n",
       "      <td>145.39350</td>\n",
       "      <td>-1.812834</td>\n",
       "      <td>-3.968152</td>\n",
       "      <td>4.540515</td>\n",
       "      <td>7445.0</td>\n",
       "      <td>43.323914</td>\n",
       "    </tr>\n",
       "  </tbody>\n",
       "</table>\n",
       "<p>288 rows × 9 columns</p>\n",
       "</div>"
      ],
      "text/plain": [
       "         ID                  DT       Lat        Lon     BHead         X  \\\n",
       "0    2017-9 2018-09-03 04:19:00  39.46372  142.10781  0.998923  0.230363   \n",
       "1    2017-9 2018-09-03 04:20:00  39.46852  142.11108  1.006208  0.067269   \n",
       "2    2017-9 2018-09-03 04:21:00  39.47314  142.11494  1.028696  0.042637   \n",
       "3    2017-9 2018-09-03 04:22:00  39.47718  142.11913  1.028673  0.042713   \n",
       "4    2017-9 2018-09-03 04:24:00  39.48570  142.12705  1.024066 -0.166575   \n",
       "..      ...                 ...       ...        ...       ...       ...   \n",
       "283  2017-9 2018-09-06 05:14:00  43.05575  145.43083 -1.834442 -4.049100   \n",
       "284  2017-9 2018-09-06 05:15:00  43.05360  145.42589 -1.834910 -4.004563   \n",
       "285  2017-9 2018-09-06 05:20:00  43.04119  145.40137 -1.796466 -4.143610   \n",
       "286  2017-9 2018-09-06 05:21:00  43.03801  145.39805 -1.795401 -4.148359   \n",
       "287  2017-9 2018-09-06 05:22:00  43.03611  145.39350 -1.812834 -3.968152   \n",
       "\n",
       "            Y    timeTo      distTo  \n",
       "0   -0.251087  245125.0  515.447989  \n",
       "1   -0.148363  245065.0  514.851725  \n",
       "2   -0.083627  245005.0  514.241635  \n",
       "3   -0.083553  244945.0  513.666755  \n",
       "4    0.038019  244825.0  512.500984  \n",
       "..        ...       ...         ...  \n",
       "283  4.635641    7925.0   47.032203  \n",
       "284  4.601397    7865.0   46.564683  \n",
       "285  4.622200    7565.0   44.153806  \n",
       "286  4.612309    7505.0   43.750272  \n",
       "287  4.540515    7445.0   43.323914  \n",
       "\n",
       "[288 rows x 9 columns]"
      ]
     },
     "execution_count": 9,
     "metadata": {},
     "output_type": "execute_result"
    }
   ],
   "source": [
    "wDat[0]"
   ]
  },
  {
   "cell_type": "markdown",
   "metadata": {},
   "source": [
    "### Examining binned data\n",
    "\n",
    "Wind data are binned into groups of 10km distances"
   ]
  },
  {
   "cell_type": "code",
   "execution_count": 10,
   "metadata": {},
   "outputs": [],
   "source": [
    "for tst in wDat:\n",
    "    tst['wDir'] = np.arctan2(tst['Y'],tst['X'])\n",
    "    tst['wSp'] = np.sqrt(tst['X']**2 + tst['Y']**2)\n",
    "    tst['rwh'] = tst['BHead'] - tst['wDir']\n",
    "    tst.loc[tst[tst['rwh'] < -np.pi].index,'rwh'] = tst.loc[tst[tst['rwh'] < -np.pi].index,'rwh'] + (2*np.pi)\n",
    "    tst.loc[tst[tst['rwh'] > np.pi].index,'rwh'] = tst.loc[tst[tst['rwh'] > np.pi].index,'rwh'] - (2*np.pi)\n",
    "    tst['distGroup'] = pd.cut(tst['distTo'],np.arange(0,np.nanmax(tst['distTo']),10),labels=(np.arange(10,np.nanmax(tst['distTo']),10)))"
   ]
  },
  {
   "cell_type": "code",
   "execution_count": 11,
   "metadata": {},
   "outputs": [
    {
     "data": {
      "text/html": [
       "<div>\n",
       "<style scoped>\n",
       "    .dataframe tbody tr th:only-of-type {\n",
       "        vertical-align: middle;\n",
       "    }\n",
       "\n",
       "    .dataframe tbody tr th {\n",
       "        vertical-align: top;\n",
       "    }\n",
       "\n",
       "    .dataframe thead th {\n",
       "        text-align: right;\n",
       "    }\n",
       "</style>\n",
       "<table border=\"1\" class=\"dataframe\">\n",
       "  <thead>\n",
       "    <tr style=\"text-align: right;\">\n",
       "      <th></th>\n",
       "      <th>ID</th>\n",
       "      <th>DT</th>\n",
       "      <th>Lat</th>\n",
       "      <th>Lon</th>\n",
       "      <th>BHead</th>\n",
       "      <th>X</th>\n",
       "      <th>Y</th>\n",
       "      <th>timeTo</th>\n",
       "      <th>distTo</th>\n",
       "      <th>wDir</th>\n",
       "      <th>wSp</th>\n",
       "      <th>rwh</th>\n",
       "      <th>distGroup</th>\n",
       "    </tr>\n",
       "  </thead>\n",
       "  <tbody>\n",
       "    <tr>\n",
       "      <th>0</th>\n",
       "      <td>2017-9</td>\n",
       "      <td>2018-09-03 04:19:00</td>\n",
       "      <td>39.46372</td>\n",
       "      <td>142.10781</td>\n",
       "      <td>0.998923</td>\n",
       "      <td>0.230363</td>\n",
       "      <td>-0.251087</td>\n",
       "      <td>245125.0</td>\n",
       "      <td>515.447989</td>\n",
       "      <td>-0.828417</td>\n",
       "      <td>0.340752</td>\n",
       "      <td>1.827340</td>\n",
       "      <td>NaN</td>\n",
       "    </tr>\n",
       "    <tr>\n",
       "      <th>1</th>\n",
       "      <td>2017-9</td>\n",
       "      <td>2018-09-03 04:20:00</td>\n",
       "      <td>39.46852</td>\n",
       "      <td>142.11108</td>\n",
       "      <td>1.006208</td>\n",
       "      <td>0.067269</td>\n",
       "      <td>-0.148363</td>\n",
       "      <td>245065.0</td>\n",
       "      <td>514.851725</td>\n",
       "      <td>-1.145113</td>\n",
       "      <td>0.162901</td>\n",
       "      <td>2.151321</td>\n",
       "      <td>NaN</td>\n",
       "    </tr>\n",
       "    <tr>\n",
       "      <th>2</th>\n",
       "      <td>2017-9</td>\n",
       "      <td>2018-09-03 04:21:00</td>\n",
       "      <td>39.47314</td>\n",
       "      <td>142.11494</td>\n",
       "      <td>1.028696</td>\n",
       "      <td>0.042637</td>\n",
       "      <td>-0.083627</td>\n",
       "      <td>245005.0</td>\n",
       "      <td>514.241635</td>\n",
       "      <td>-1.099298</td>\n",
       "      <td>0.093869</td>\n",
       "      <td>2.127994</td>\n",
       "      <td>NaN</td>\n",
       "    </tr>\n",
       "    <tr>\n",
       "      <th>3</th>\n",
       "      <td>2017-9</td>\n",
       "      <td>2018-09-03 04:22:00</td>\n",
       "      <td>39.47718</td>\n",
       "      <td>142.11913</td>\n",
       "      <td>1.028673</td>\n",
       "      <td>0.042713</td>\n",
       "      <td>-0.083553</td>\n",
       "      <td>244945.0</td>\n",
       "      <td>513.666755</td>\n",
       "      <td>-1.098223</td>\n",
       "      <td>0.093837</td>\n",
       "      <td>2.126896</td>\n",
       "      <td>NaN</td>\n",
       "    </tr>\n",
       "    <tr>\n",
       "      <th>4</th>\n",
       "      <td>2017-9</td>\n",
       "      <td>2018-09-03 04:24:00</td>\n",
       "      <td>39.48570</td>\n",
       "      <td>142.12705</td>\n",
       "      <td>1.024066</td>\n",
       "      <td>-0.166575</td>\n",
       "      <td>0.038019</td>\n",
       "      <td>244825.0</td>\n",
       "      <td>512.500984</td>\n",
       "      <td>2.917195</td>\n",
       "      <td>0.170859</td>\n",
       "      <td>-1.893129</td>\n",
       "      <td>NaN</td>\n",
       "    </tr>\n",
       "    <tr>\n",
       "      <th>...</th>\n",
       "      <td>...</td>\n",
       "      <td>...</td>\n",
       "      <td>...</td>\n",
       "      <td>...</td>\n",
       "      <td>...</td>\n",
       "      <td>...</td>\n",
       "      <td>...</td>\n",
       "      <td>...</td>\n",
       "      <td>...</td>\n",
       "      <td>...</td>\n",
       "      <td>...</td>\n",
       "      <td>...</td>\n",
       "      <td>...</td>\n",
       "    </tr>\n",
       "    <tr>\n",
       "      <th>283</th>\n",
       "      <td>2017-9</td>\n",
       "      <td>2018-09-06 05:14:00</td>\n",
       "      <td>43.05575</td>\n",
       "      <td>145.43083</td>\n",
       "      <td>-1.834442</td>\n",
       "      <td>-4.049100</td>\n",
       "      <td>4.635641</td>\n",
       "      <td>7925.0</td>\n",
       "      <td>47.032203</td>\n",
       "      <td>2.288760</td>\n",
       "      <td>6.155028</td>\n",
       "      <td>2.159983</td>\n",
       "      <td>50.0</td>\n",
       "    </tr>\n",
       "    <tr>\n",
       "      <th>284</th>\n",
       "      <td>2017-9</td>\n",
       "      <td>2018-09-06 05:15:00</td>\n",
       "      <td>43.05360</td>\n",
       "      <td>145.42589</td>\n",
       "      <td>-1.834910</td>\n",
       "      <td>-4.004563</td>\n",
       "      <td>4.601397</td>\n",
       "      <td>7865.0</td>\n",
       "      <td>46.564683</td>\n",
       "      <td>2.286954</td>\n",
       "      <td>6.099949</td>\n",
       "      <td>2.161322</td>\n",
       "      <td>50.0</td>\n",
       "    </tr>\n",
       "    <tr>\n",
       "      <th>285</th>\n",
       "      <td>2017-9</td>\n",
       "      <td>2018-09-06 05:20:00</td>\n",
       "      <td>43.04119</td>\n",
       "      <td>145.40137</td>\n",
       "      <td>-1.796466</td>\n",
       "      <td>-4.143610</td>\n",
       "      <td>4.622200</td>\n",
       "      <td>7565.0</td>\n",
       "      <td>44.153806</td>\n",
       "      <td>2.301651</td>\n",
       "      <td>6.207595</td>\n",
       "      <td>2.185068</td>\n",
       "      <td>50.0</td>\n",
       "    </tr>\n",
       "    <tr>\n",
       "      <th>286</th>\n",
       "      <td>2017-9</td>\n",
       "      <td>2018-09-06 05:21:00</td>\n",
       "      <td>43.03801</td>\n",
       "      <td>145.39805</td>\n",
       "      <td>-1.795401</td>\n",
       "      <td>-4.148359</td>\n",
       "      <td>4.612309</td>\n",
       "      <td>7505.0</td>\n",
       "      <td>43.750272</td>\n",
       "      <td>2.303286</td>\n",
       "      <td>6.203408</td>\n",
       "      <td>2.184499</td>\n",
       "      <td>50.0</td>\n",
       "    </tr>\n",
       "    <tr>\n",
       "      <th>287</th>\n",
       "      <td>2017-9</td>\n",
       "      <td>2018-09-06 05:22:00</td>\n",
       "      <td>43.03611</td>\n",
       "      <td>145.39350</td>\n",
       "      <td>-1.812834</td>\n",
       "      <td>-3.968152</td>\n",
       "      <td>4.540515</td>\n",
       "      <td>7445.0</td>\n",
       "      <td>43.323914</td>\n",
       "      <td>2.289027</td>\n",
       "      <td>6.030133</td>\n",
       "      <td>2.181324</td>\n",
       "      <td>50.0</td>\n",
       "    </tr>\n",
       "  </tbody>\n",
       "</table>\n",
       "<p>288 rows × 13 columns</p>\n",
       "</div>"
      ],
      "text/plain": [
       "         ID                  DT       Lat        Lon     BHead         X  \\\n",
       "0    2017-9 2018-09-03 04:19:00  39.46372  142.10781  0.998923  0.230363   \n",
       "1    2017-9 2018-09-03 04:20:00  39.46852  142.11108  1.006208  0.067269   \n",
       "2    2017-9 2018-09-03 04:21:00  39.47314  142.11494  1.028696  0.042637   \n",
       "3    2017-9 2018-09-03 04:22:00  39.47718  142.11913  1.028673  0.042713   \n",
       "4    2017-9 2018-09-03 04:24:00  39.48570  142.12705  1.024066 -0.166575   \n",
       "..      ...                 ...       ...        ...       ...       ...   \n",
       "283  2017-9 2018-09-06 05:14:00  43.05575  145.43083 -1.834442 -4.049100   \n",
       "284  2017-9 2018-09-06 05:15:00  43.05360  145.42589 -1.834910 -4.004563   \n",
       "285  2017-9 2018-09-06 05:20:00  43.04119  145.40137 -1.796466 -4.143610   \n",
       "286  2017-9 2018-09-06 05:21:00  43.03801  145.39805 -1.795401 -4.148359   \n",
       "287  2017-9 2018-09-06 05:22:00  43.03611  145.39350 -1.812834 -3.968152   \n",
       "\n",
       "            Y    timeTo      distTo      wDir       wSp       rwh distGroup  \n",
       "0   -0.251087  245125.0  515.447989 -0.828417  0.340752  1.827340       NaN  \n",
       "1   -0.148363  245065.0  514.851725 -1.145113  0.162901  2.151321       NaN  \n",
       "2   -0.083627  245005.0  514.241635 -1.099298  0.093869  2.127994       NaN  \n",
       "3   -0.083553  244945.0  513.666755 -1.098223  0.093837  2.126896       NaN  \n",
       "4    0.038019  244825.0  512.500984  2.917195  0.170859 -1.893129       NaN  \n",
       "..        ...       ...         ...       ...       ...       ...       ...  \n",
       "283  4.635641    7925.0   47.032203  2.288760  6.155028  2.159983      50.0  \n",
       "284  4.601397    7865.0   46.564683  2.286954  6.099949  2.161322      50.0  \n",
       "285  4.622200    7565.0   44.153806  2.301651  6.207595  2.185068      50.0  \n",
       "286  4.612309    7505.0   43.750272  2.303286  6.203408  2.184499      50.0  \n",
       "287  4.540515    7445.0   43.323914  2.289027  6.030133  2.181324      50.0  \n",
       "\n",
       "[288 rows x 13 columns]"
      ]
     },
     "execution_count": 11,
     "metadata": {},
     "output_type": "execute_result"
    }
   ],
   "source": [
    "wDat[0]"
   ]
  },
  {
   "cell_type": "code",
   "execution_count": 6,
   "metadata": {},
   "outputs": [
    {
     "data": {
      "text/plain": [
       "Text(0, 0.5, 'Lat')"
      ]
     },
     "execution_count": 6,
     "metadata": {},
     "output_type": "execute_result"
    },
    {
     "data": {
      "image/png": "[encoded data removed]",
      "text/plain": [
       "<Figure size 432x288 with 2 Axes>"
      ]
     },
     "metadata": {
      "needs_background": "light"
     },
     "output_type": "display_data"
    }
   ],
   "source": [
    "cm = plt.cm.get_cmap('RdYlBu')\n",
    "colours = [cm(1.*i/len(wDat.groupby('distGroup').count())) for i in range(len(wDat.groupby('distGroup').count()))]\n",
    "xy = range(len(np.arange(0,np.nanmax(wDat['distTo']),10)))\n",
    "\n",
    "plt.scatter(wDat['Lon'],wDat['Lat'],c=wDat['distTo'])\n",
    "cb = plt.colorbar()\n",
    "cb.set_label('Distance to next foraging point (km)')\n",
    "plt.set_cmap(cm)\n",
    "plt.xlabel('Lon')\n",
    "plt.ylabel('Lat')"
   ]
  },
  {
   "cell_type": "code",
   "execution_count": 12,
   "metadata": {},
   "outputs": [],
   "source": [
    "for df in wDat:\n",
    "    df['aligned'] = df['rwh'] + np.pi\n",
    "    df.loc[df[df['aligned'] > np.pi].index,'aligned'] = df.loc[df[df['aligned'] > np.pi].index,'aligned'] - 2*np.pi\n",
    "    df.loc[df[df['aligned'] > np.pi].index,'aligned'] = df.loc[df[df['aligned'] > np.pi].index,'aligned'] - 2*np.pi\n",
    "    df.loc[df[df['aligned'] < -np.pi].index,'aligned'] = df.loc[df[df['aligned'] < -np.pi].index,'aligned'] + 2*np.pi\n",
    "\n",
    "# sns.displot(df.loc[df[df['distTo'] < 100].index,:],x='aligned',hue='distGroup')"
   ]
  },
  {
   "cell_type": "markdown",
   "metadata": {},
   "source": [
    "## Data per individual\n",
    "\n",
    "Wishing to look at the wind conditions of individuals flying towards foraging spots. This way, we have an idea of how the birds are using winds on approach. So therefore, we can explore the wind data to find how much wind data is available prior to each foraging point. However, we do so for when birds are within 2 hours of the proceeding foraging point. This increases the likelihood of capturing the bird's wind usage during that approach period."
   ]
  },
  {
   "cell_type": "code",
   "execution_count": 31,
   "metadata": {},
   "outputs": [
    {
     "name": "stderr",
     "output_type": "stream",
     "text": [
      "/var/folders/1q/8hhgns2571l3lnb8pvlsbkpm0000gn/T/ipykernel_27601/3895285260.py:2: SettingWithCopyWarning: \n",
      "A value is trying to be set on a copy of a slice from a DataFrame.\n",
      "Try using .loc[row_indexer,col_indexer] = value instead\n",
      "\n",
      "See the caveats in the documentation: https://pandas.pydata.org/pandas-docs/stable/user_guide/indexing.html#returning-a-view-versus-a-copy\n",
      "  groups.get_group('1')['forageNo'] = np.nan\n"
     ]
    }
   ],
   "source": [
    "groups = wDat.groupby('ID')\n",
    "groups.get_group('1')['forageNo'] = np.nan"
   ]
  },
  {
   "cell_type": "code",
   "execution_count": 13,
   "metadata": {},
   "outputs": [
    {
     "ename": "IndexError",
     "evalue": "index 0 is out of bounds for axis 0 with size 0",
     "output_type": "error",
     "traceback": [
      "\u001b[0;31m---------------------------------------------------------------------------\u001b[0m",
      "\u001b[0;31mIndexError\u001b[0m                                Traceback (most recent call last)",
      "\u001b[0;32m/var/folders/1q/8hhgns2571l3lnb8pvlsbkpm0000gn/T/ipykernel_28916/2183719367.py\u001b[0m in \u001b[0;36m<module>\u001b[0;34m\u001b[0m\n\u001b[1;32m      5\u001b[0m     \u001b[0mstartPts\u001b[0m \u001b[0;34m=\u001b[0m \u001b[0mnp\u001b[0m\u001b[0;34m.\u001b[0m\u001b[0minsert\u001b[0m\u001b[0;34m(\u001b[0m\u001b[0mchgPts\u001b[0m\u001b[0;34m[\u001b[0m\u001b[0;36m0\u001b[0m\u001b[0;34m:\u001b[0m\u001b[0;34m-\u001b[0m\u001b[0;36m1\u001b[0m\u001b[0;34m]\u001b[0m\u001b[0;34m+\u001b[0m\u001b[0;36m1\u001b[0m\u001b[0;34m,\u001b[0m\u001b[0;36m0\u001b[0m\u001b[0;34m,\u001b[0m\u001b[0;36m0\u001b[0m\u001b[0;34m)\u001b[0m\u001b[0;34m\u001b[0m\u001b[0;34m\u001b[0m\u001b[0m\n\u001b[1;32m      6\u001b[0m     \u001b[0;32mfor\u001b[0m \u001b[0mc\u001b[0m \u001b[0;32min\u001b[0m \u001b[0mrange\u001b[0m\u001b[0;34m(\u001b[0m\u001b[0mlen\u001b[0m\u001b[0;34m(\u001b[0m\u001b[0mstartPts\u001b[0m\u001b[0;34m)\u001b[0m\u001b[0;34m)\u001b[0m\u001b[0;34m:\u001b[0m\u001b[0;34m\u001b[0m\u001b[0;34m\u001b[0m\u001b[0m\n\u001b[0;32m----> 7\u001b[0;31m         \u001b[0mdf\u001b[0m\u001b[0;34m.\u001b[0m\u001b[0mloc\u001b[0m\u001b[0;34m[\u001b[0m\u001b[0mstartPts\u001b[0m\u001b[0;34m[\u001b[0m\u001b[0mc\u001b[0m\u001b[0;34m]\u001b[0m\u001b[0;34m:\u001b[0m\u001b[0mchgPts\u001b[0m\u001b[0;34m[\u001b[0m\u001b[0mc\u001b[0m\u001b[0;34m]\u001b[0m\u001b[0;34m,\u001b[0m\u001b[0;34m'forageNo'\u001b[0m\u001b[0;34m]\u001b[0m \u001b[0;34m=\u001b[0m \u001b[0mint\u001b[0m\u001b[0;34m(\u001b[0m\u001b[0mc\u001b[0m\u001b[0;34m)\u001b[0m\u001b[0;34m\u001b[0m\u001b[0;34m\u001b[0m\u001b[0m\n\u001b[0m\u001b[1;32m      8\u001b[0m \u001b[0mwDat\u001b[0m\u001b[0;34m[\u001b[0m\u001b[0;36m0\u001b[0m\u001b[0;34m]\u001b[0m\u001b[0;34m\u001b[0m\u001b[0;34m\u001b[0m\u001b[0m\n",
      "\u001b[0;31mIndexError\u001b[0m: index 0 is out of bounds for axis 0 with size 0"
     ]
    }
   ],
   "source": [
    "for df in wDat:\n",
    "    df['forageNo'] = npnan\n",
    "    diffChg = np.diff(df['timeTo'])\n",
    "    chgPts = np.where(diffChg > 0)[0]\n",
    "    startPts = np.insert(chgPts[0:-1]+1,0,0)\n",
    "    for c in range(len(startPts)):\n",
    "        df.loc[startPts[c]:chgPts[c],'forageNo'] = int(c)\n",
    "wDat[0]"
   ]
  },
  {
   "cell_type": "code",
   "execution_count": 26,
   "metadata": {},
   "outputs": [
    {
     "data": {
      "text/plain": [
       "[<matplotlib.lines.Line2D at 0x16dc1b7c0>]"
      ]
     },
     "execution_count": 26,
     "metadata": {},
     "output_type": "execute_result"
    },
    {
     "data": {
      "image/png": "[encoded data removed]",
      "text/plain": [
       "<Figure size 432x288 with 1 Axes>"
      ]
     },
     "metadata": {
      "needs_background": "light"
     },
     "output_type": "display_data"
    }
   ],
   "source": [
    "diffChg = np.diff(wDat[0][\"timeTo\"])\n",
    "plt.plot(diffChg)"
   ]
  },
  {
   "cell_type": "code",
   "execution_count": 6,
   "metadata": {},
   "outputs": [],
   "source": [
    "# group data by foraging point approach (assumed using differences of time to next foraging spot)\n",
    "wDat['forageNo'] = np.nan\n",
    "for b in wDat['ID'].unique():\n",
    "    diffChg = np.diff(wDat.loc[wDat[wDat['ID']==b].index,'timeTo'])\n",
    "    chgPts = np.where(diffChg > 0)[0]\n",
    "    startPts = np.insert(chgPts[0:-1]+1,0,0)\n",
    "    for c in range(len(startPts)):\n",
    "        wDat.loc[wDat[wDat[\"ID\"] == b].index,'forageNo'] = int(c)"
   ]
  },
  {
   "cell_type": "code",
   "execution_count": 27,
   "metadata": {},
   "outputs": [
    {
     "data": {
      "text/plain": [
       "'8'"
      ]
     },
     "execution_count": 27,
     "metadata": {},
     "output_type": "execute_result"
    }
   ],
   "source": [
    "wDat['forageNo'] = np.nan\n",
    "diffChg = np.where(wDat.loc[wDat[wDat['ID']==wDat['ID'].unique()[5]].index,'timeTo'])\n",
    "chgPts = np.where(diffChg > 0)[0]\n",
    "startPts = np.insert(chgPts[0:-1]+1,0,0)\n",
    "wDat.loc[startPts,:]\n",
    "wDat.loc[chgPts,:]\n",
    "# wDat.loc[wDat[wDat['ID'] == wDat['ID'].unique()[5]].index,'DT']\n",
    "# forDat.loc[(forDat['ID'] == forDat['ID'].unique()[5]) & (forDat['DT'] > np.datetime64(\"2018-09-05 00:00:00\")) & (forDat['DT'] < np.datetime64(\"2018-09-06 00:00:00\")) & (forDat['Forage'] == 1),'DT']\n",
    "wDat['ID'].unique()[5]"
   ]
  },
  {
   "cell_type": "code",
   "execution_count": 23,
   "metadata": {},
   "outputs": [
    {
     "data": {
      "text/plain": [
       "[<matplotlib.lines.Line2D at 0x288e1bd4700>]"
      ]
     },
     "execution_count": 23,
     "metadata": {},
     "output_type": "execute_result"
    },
    {
     "data": {
      "image/png": "[encoded data removed]",
      "text/plain": [
       "<Figure size 432x288 with 1 Axes>"
      ]
     },
     "metadata": {
      "needs_background": "light"
     },
     "output_type": "display_data"
    }
   ],
   "source": [
    "# plt.plot(wDat.index,wDat['distTo'])\n",
    "# plt.plot(wDat.index,wDat['distTo'],marker='o',linestyle='')\n",
    "plt.plot(np.where(wDat['distTo'] < 100)[0],wDat.loc[wDat[wDat['distTo'] < 100].index,'timeTo']/60)\n",
    "plt.plot(np.where(wDat['distTo'] < 100)[0],wDat.loc[wDat[wDat['distTo'] < 100].index,'timeTo']/60,marker='o',linestyle='')"
   ]
  },
  {
   "cell_type": "code",
   "execution_count": 7,
   "metadata": {},
   "outputs": [
    {
     "data": {
      "text/plain": [
       "Text(0.5, 1.0, 'Wind data available before each foraging')"
      ]
     },
     "execution_count": 7,
     "metadata": {},
     "output_type": "execute_result"
    },
    {
     "data": {
      "image/png": "[encoded data removed]",
      "text/plain": [
       "<Figure size 432x288 with 1 Axes>"
      ]
     },
     "metadata": {
      "needs_background": "light"
     },
     "output_type": "display_data"
    }
   ],
   "source": [
    "# wind counts for each foraging point within 2 hours of next FP\n",
    "sub = wDat.loc[wDat[wDat['timeTo'] < 3600*2].index,:]\n",
    "groups = sub.groupby('forageNo')\n",
    "forWdat = pd.DataFrame(groups.size())\n",
    "forWdat['forageNo'] = forWdat.index\n",
    "plt.bar(forWdat['forageNo'],forWdat[0])\n",
    "plt.xlabel('Foraging point ID')\n",
    "plt.ylabel('Number of wind values prior to forage point')\n",
    "plt.title('Wind data available before each foraging')"
   ]
  },
  {
   "cell_type": "markdown",
   "metadata": {},
   "source": [
    "If we explore the data for foraging points with the most available wind data, the following data is shown:"
   ]
  },
  {
   "cell_type": "code",
   "execution_count": 183,
   "metadata": {},
   "outputs": [
    {
     "data": {
      "image/png": "[encoded data removed]",
      "text/plain": [
       "<Figure size 432x288 with 2 Axes>"
      ]
     },
     "metadata": {
      "needs_background": "light"
     },
     "output_type": "display_data"
    }
   ],
   "source": [
    "sel=forWdat.loc[forWdat[0].idxmax(),'forageNo']\n",
    "tst = np.where(sub['forageNo'] == sel)[0][0]\n",
    "\n",
    "plt.plot(forDat.loc[(forDat['DT'] >= sub.loc[tst,'DT']) & (forDat['DT'] < (sub.loc[tst,'DT']+np.timedelta64(2,'h'))) & (forDat['ID'] == sub.loc[tst,'ID']),'Lon'],\n",
    "forDat.loc[(forDat['DT'] >= sub.loc[tst,'DT']) & (forDat['DT'] < (sub.loc[tst,'DT']+np.timedelta64(2,'h'))) & (forDat['ID'] == sub.loc[tst,'ID']),'Lat'],zorder=0)\n",
    "plt.quiver(sub.loc[sub[sub['forageNo'] == sel].index,'Lon'],sub.loc[sub[sub['forageNo'] == sel].index,'Lat'],\n",
    "sub.loc[sub[sub['forageNo'] == sel].index,'X'],sub.loc[sub[sub['forageNo'] == sel].index,'Y'],\n",
    "sub.loc[sub[sub['forageNo'] == sel].index,'wSp'])\n",
    "cb=plt.colorbar()\n",
    "\n"
   ]
  },
  {
   "cell_type": "code",
   "execution_count": 161,
   "metadata": {},
   "outputs": [
    {
     "data": {
      "text/plain": [
       "263541    142.36030\n",
       "263542    142.35811\n",
       "263543    142.35676\n",
       "263544    142.35731\n",
       "263545    142.35527\n",
       "            ...    \n",
       "263750    142.36254\n",
       "263751    142.36289\n",
       "263752    142.36356\n",
       "263753    142.36401\n",
       "263754    142.36441\n",
       "Name: Lon, Length: 214, dtype: float64"
      ]
     },
     "execution_count": 161,
     "metadata": {},
     "output_type": "execute_result"
    }
   ],
   "source": [
    "forDat.loc[(forDat['DT'] >= sub.loc[tst,'DT']) & (forDat['DT'] < (sub.loc[tst,'DT']+np.timedelta64(2,'h'))) & (forDat['ID'] == sub.loc[tst,'ID']),'Lon']"
   ]
  },
  {
   "cell_type": "code",
   "execution_count": 174,
   "metadata": {},
   "outputs": [
    {
     "data": {
      "image/png": "[encoded data removed]",
      "text/plain": [
       "<Figure size 432x288 with 2 Axes>"
      ]
     },
     "metadata": {
      "needs_background": "light"
     },
     "output_type": "display_data"
    }
   ],
   "source": [
    "# plt.scatter(sub.loc[sub[sub['forageNo'] == sel].index,\"Lon\"],sub.loc[sub[sub['forageNo'] == sel].index,\"Lat\"])\n",
    "plt.plot(forDat.loc[forDat[forDat['ID'] == '3'].index,'Lon'],forDat.loc[forDat[forDat['ID'] == '3'].index,'Lat'])\n",
    "plt.quiver(sub.loc[sub[sub['forageNo'] == sel].index,'Lon'],sub.loc[sub[sub['forageNo'] == sel].index,'Lat'],\n",
    "sub.loc[sub[sub['forageNo'] == sel].index,'X'],sub.loc[sub[sub['forageNo'] == sel].index,'Y'],\n",
    "sub.loc[sub[sub['forageNo'] == sel].index,'wSp'])\n",
    "cb=plt.colorbar()\n"
   ]
  },
  {
   "cell_type": "code",
   "execution_count": 158,
   "metadata": {},
   "outputs": [
    {
     "data": {
      "text/plain": [
       "295321"
      ]
     },
     "execution_count": 158,
     "metadata": {},
     "output_type": "execute_result"
    }
   ],
   "source": [
    "ed"
   ]
  },
  {
   "cell_type": "code",
   "execution_count": null,
   "metadata": {},
   "outputs": [],
   "source": [
    "forWdat['forageNo'] = forWdat.index\n",
    "plt.bar(forWdat['forageNo'],forWdat[0])\n",
    "plt.xlabel('Foraging point ID')\n",
    "plt.ylabel('Number of wind values prior to forage point')\n",
    "plt.title('Wind data available before each foraging point')"
   ]
  },
  {
   "cell_type": "code",
   "execution_count": 66,
   "metadata": {},
   "outputs": [
    {
     "data": {
      "text/html": [
       "<div>\n",
       "<style scoped>\n",
       "    .dataframe tbody tr th:only-of-type {\n",
       "        vertical-align: middle;\n",
       "    }\n",
       "\n",
       "    .dataframe tbody tr th {\n",
       "        vertical-align: top;\n",
       "    }\n",
       "\n",
       "    .dataframe thead th {\n",
       "        text-align: right;\n",
       "    }\n",
       "</style>\n",
       "<table border=\"1\" class=\"dataframe\">\n",
       "  <thead>\n",
       "    <tr style=\"text-align: right;\">\n",
       "      <th></th>\n",
       "      <th>ID</th>\n",
       "      <th>DT</th>\n",
       "      <th>Lat</th>\n",
       "      <th>Lon</th>\n",
       "      <th>BHead</th>\n",
       "      <th>X</th>\n",
       "      <th>Y</th>\n",
       "      <th>timeTo</th>\n",
       "      <th>distTo</th>\n",
       "      <th>wDir</th>\n",
       "      <th>rwh</th>\n",
       "      <th>distGroup</th>\n",
       "      <th>forageNo</th>\n",
       "      <th>wSp</th>\n",
       "      <th>aligned</th>\n",
       "    </tr>\n",
       "  </thead>\n",
       "  <tbody>\n",
       "    <tr>\n",
       "      <th>0</th>\n",
       "      <td>1</td>\n",
       "      <td>2018-09-02 04:09:20</td>\n",
       "      <td>39.41675</td>\n",
       "      <td>142.08674</td>\n",
       "      <td>0.838811</td>\n",
       "      <td>-1.804529</td>\n",
       "      <td>-2.990987</td>\n",
       "      <td>374.0</td>\n",
       "      <td>434.079436</td>\n",
       "      <td>-2.113655</td>\n",
       "      <td>2.952467</td>\n",
       "      <td>440.0</td>\n",
       "      <td>0.0</td>\n",
       "      <td>3.493183</td>\n",
       "      <td>-0.189126</td>\n",
       "    </tr>\n",
       "    <tr>\n",
       "      <th>1</th>\n",
       "      <td>1</td>\n",
       "      <td>2018-09-02 04:09:35</td>\n",
       "      <td>39.41893</td>\n",
       "      <td>142.08990</td>\n",
       "      <td>0.838831</td>\n",
       "      <td>-1.804457</td>\n",
       "      <td>-2.991062</td>\n",
       "      <td>359.0</td>\n",
       "      <td>433.741293</td>\n",
       "      <td>-2.113626</td>\n",
       "      <td>2.952457</td>\n",
       "      <td>440.0</td>\n",
       "      <td>0.0</td>\n",
       "      <td>3.493210</td>\n",
       "      <td>-0.189135</td>\n",
       "    </tr>\n",
       "    <tr>\n",
       "      <th>2</th>\n",
       "      <td>1</td>\n",
       "      <td>2018-09-02 04:10:05</td>\n",
       "      <td>39.42218</td>\n",
       "      <td>142.09146</td>\n",
       "      <td>0.838807</td>\n",
       "      <td>-1.804476</td>\n",
       "      <td>-2.991030</td>\n",
       "      <td>329.0</td>\n",
       "      <td>433.358471</td>\n",
       "      <td>-2.113636</td>\n",
       "      <td>2.952443</td>\n",
       "      <td>440.0</td>\n",
       "      <td>0.0</td>\n",
       "      <td>3.493193</td>\n",
       "      <td>-0.189150</td>\n",
       "    </tr>\n",
       "    <tr>\n",
       "      <th>3</th>\n",
       "      <td>1</td>\n",
       "      <td>2018-09-02 04:10:35</td>\n",
       "      <td>39.42554</td>\n",
       "      <td>142.09307</td>\n",
       "      <td>0.838812</td>\n",
       "      <td>-1.804513</td>\n",
       "      <td>-2.990932</td>\n",
       "      <td>299.0</td>\n",
       "      <td>432.962807</td>\n",
       "      <td>-2.113659</td>\n",
       "      <td>2.952472</td>\n",
       "      <td>440.0</td>\n",
       "      <td>0.0</td>\n",
       "      <td>3.493128</td>\n",
       "      <td>-0.189121</td>\n",
       "    </tr>\n",
       "    <tr>\n",
       "      <th>4</th>\n",
       "      <td>1</td>\n",
       "      <td>2018-09-02 04:11:07</td>\n",
       "      <td>39.42873</td>\n",
       "      <td>142.09424</td>\n",
       "      <td>0.838798</td>\n",
       "      <td>-1.804610</td>\n",
       "      <td>-2.990921</td>\n",
       "      <td>267.0</td>\n",
       "      <td>432.600975</td>\n",
       "      <td>-2.113685</td>\n",
       "      <td>2.952483</td>\n",
       "      <td>440.0</td>\n",
       "      <td>0.0</td>\n",
       "      <td>3.493169</td>\n",
       "      <td>-0.189110</td>\n",
       "    </tr>\n",
       "    <tr>\n",
       "      <th>...</th>\n",
       "      <td>...</td>\n",
       "      <td>...</td>\n",
       "      <td>...</td>\n",
       "      <td>...</td>\n",
       "      <td>...</td>\n",
       "      <td>...</td>\n",
       "      <td>...</td>\n",
       "      <td>...</td>\n",
       "      <td>...</td>\n",
       "      <td>...</td>\n",
       "      <td>...</td>\n",
       "      <td>...</td>\n",
       "      <td>...</td>\n",
       "      <td>...</td>\n",
       "      <td>...</td>\n",
       "    </tr>\n",
       "    <tr>\n",
       "      <th>9723</th>\n",
       "      <td>2017-9</td>\n",
       "      <td>2018-09-07 00:34:10</td>\n",
       "      <td>43.05575</td>\n",
       "      <td>145.43083</td>\n",
       "      <td>-1.834442</td>\n",
       "      <td>-4.049100</td>\n",
       "      <td>4.635641</td>\n",
       "      <td>NaN</td>\n",
       "      <td>NaN</td>\n",
       "      <td>2.288760</td>\n",
       "      <td>2.159983</td>\n",
       "      <td>NaN</td>\n",
       "      <td>NaN</td>\n",
       "      <td>6.155028</td>\n",
       "      <td>-0.981609</td>\n",
       "    </tr>\n",
       "    <tr>\n",
       "      <th>9724</th>\n",
       "      <td>2017-9</td>\n",
       "      <td>2018-09-07 00:34:41</td>\n",
       "      <td>43.05360</td>\n",
       "      <td>145.42589</td>\n",
       "      <td>-1.834910</td>\n",
       "      <td>-4.004563</td>\n",
       "      <td>4.601397</td>\n",
       "      <td>NaN</td>\n",
       "      <td>NaN</td>\n",
       "      <td>2.286954</td>\n",
       "      <td>2.161322</td>\n",
       "      <td>NaN</td>\n",
       "      <td>NaN</td>\n",
       "      <td>6.099949</td>\n",
       "      <td>-0.980271</td>\n",
       "    </tr>\n",
       "    <tr>\n",
       "      <th>9725</th>\n",
       "      <td>2017-9</td>\n",
       "      <td>2018-09-07 00:35:11</td>\n",
       "      <td>43.04119</td>\n",
       "      <td>145.40137</td>\n",
       "      <td>-1.796466</td>\n",
       "      <td>-4.143610</td>\n",
       "      <td>4.622200</td>\n",
       "      <td>NaN</td>\n",
       "      <td>NaN</td>\n",
       "      <td>2.301651</td>\n",
       "      <td>2.185068</td>\n",
       "      <td>NaN</td>\n",
       "      <td>NaN</td>\n",
       "      <td>6.207595</td>\n",
       "      <td>-0.956525</td>\n",
       "    </tr>\n",
       "    <tr>\n",
       "      <th>9726</th>\n",
       "      <td>2017-9</td>\n",
       "      <td>2018-09-07 00:35:41</td>\n",
       "      <td>43.03801</td>\n",
       "      <td>145.39805</td>\n",
       "      <td>-1.795401</td>\n",
       "      <td>-4.148359</td>\n",
       "      <td>4.612309</td>\n",
       "      <td>NaN</td>\n",
       "      <td>NaN</td>\n",
       "      <td>2.303286</td>\n",
       "      <td>2.184499</td>\n",
       "      <td>NaN</td>\n",
       "      <td>NaN</td>\n",
       "      <td>6.203408</td>\n",
       "      <td>-0.957093</td>\n",
       "    </tr>\n",
       "    <tr>\n",
       "      <th>9727</th>\n",
       "      <td>2017-9</td>\n",
       "      <td>2018-09-07 00:36:11</td>\n",
       "      <td>43.03611</td>\n",
       "      <td>145.39350</td>\n",
       "      <td>-1.812834</td>\n",
       "      <td>-3.968152</td>\n",
       "      <td>4.540515</td>\n",
       "      <td>NaN</td>\n",
       "      <td>NaN</td>\n",
       "      <td>2.289027</td>\n",
       "      <td>2.181324</td>\n",
       "      <td>NaN</td>\n",
       "      <td>NaN</td>\n",
       "      <td>6.030133</td>\n",
       "      <td>-0.960269</td>\n",
       "    </tr>\n",
       "  </tbody>\n",
       "</table>\n",
       "<p>9728 rows × 15 columns</p>\n",
       "</div>"
      ],
      "text/plain": [
       "          ID                  DT       Lat        Lon     BHead         X  \\\n",
       "0          1 2018-09-02 04:09:20  39.41675  142.08674  0.838811 -1.804529   \n",
       "1          1 2018-09-02 04:09:35  39.41893  142.08990  0.838831 -1.804457   \n",
       "2          1 2018-09-02 04:10:05  39.42218  142.09146  0.838807 -1.804476   \n",
       "3          1 2018-09-02 04:10:35  39.42554  142.09307  0.838812 -1.804513   \n",
       "4          1 2018-09-02 04:11:07  39.42873  142.09424  0.838798 -1.804610   \n",
       "...      ...                 ...       ...        ...       ...       ...   \n",
       "9723  2017-9 2018-09-07 00:34:10  43.05575  145.43083 -1.834442 -4.049100   \n",
       "9724  2017-9 2018-09-07 00:34:41  43.05360  145.42589 -1.834910 -4.004563   \n",
       "9725  2017-9 2018-09-07 00:35:11  43.04119  145.40137 -1.796466 -4.143610   \n",
       "9726  2017-9 2018-09-07 00:35:41  43.03801  145.39805 -1.795401 -4.148359   \n",
       "9727  2017-9 2018-09-07 00:36:11  43.03611  145.39350 -1.812834 -3.968152   \n",
       "\n",
       "             Y  timeTo      distTo      wDir       rwh distGroup  forageNo  \\\n",
       "0    -2.990987   374.0  434.079436 -2.113655  2.952467     440.0       0.0   \n",
       "1    -2.991062   359.0  433.741293 -2.113626  2.952457     440.0       0.0   \n",
       "2    -2.991030   329.0  433.358471 -2.113636  2.952443     440.0       0.0   \n",
       "3    -2.990932   299.0  432.962807 -2.113659  2.952472     440.0       0.0   \n",
       "4    -2.990921   267.0  432.600975 -2.113685  2.952483     440.0       0.0   \n",
       "...        ...     ...         ...       ...       ...       ...       ...   \n",
       "9723  4.635641     NaN         NaN  2.288760  2.159983       NaN       NaN   \n",
       "9724  4.601397     NaN         NaN  2.286954  2.161322       NaN       NaN   \n",
       "9725  4.622200     NaN         NaN  2.301651  2.185068       NaN       NaN   \n",
       "9726  4.612309     NaN         NaN  2.303286  2.184499       NaN       NaN   \n",
       "9727  4.540515     NaN         NaN  2.289027  2.181324       NaN       NaN   \n",
       "\n",
       "           wSp   aligned  \n",
       "0     3.493183 -0.189126  \n",
       "1     3.493210 -0.189135  \n",
       "2     3.493193 -0.189150  \n",
       "3     3.493128 -0.189121  \n",
       "4     3.493169 -0.189110  \n",
       "...        ...       ...  \n",
       "9723  6.155028 -0.981609  \n",
       "9724  6.099949 -0.980271  \n",
       "9725  6.207595 -0.956525  \n",
       "9726  6.203408 -0.957093  \n",
       "9727  6.030133 -0.960269  \n",
       "\n",
       "[9728 rows x 15 columns]"
      ]
     },
     "execution_count": 66,
     "metadata": {},
     "output_type": "execute_result"
    }
   ],
   "source": [
    "wDat"
   ]
  },
  {
   "cell_type": "code",
   "execution_count": null,
   "metadata": {},
   "outputs": [],
   "source": []
  }
 ],
 "metadata": {
  "interpreter": {
   "hash": "63fd5069d213b44bf678585dea6b12cceca9941eaf7f819626cde1f2670de90d"
  },
  "kernelspec": {
   "display_name": "Python 3.9.6 64-bit",
   "language": "python",
   "name": "python3"
  },
  "language_info": {
   "codemirror_mode": {
    "name": "ipython",
    "version": 3
   },
   "file_extension": ".py",
   "mimetype": "text/x-python",
   "name": "python",
   "nbconvert_exporter": "python",
   "pygments_lexer": "ipython3",
   "version": "3.9.8"
  },
  "orig_nbformat": 4
 },
 "nbformat": 4,
 "nbformat_minor": 2
}
