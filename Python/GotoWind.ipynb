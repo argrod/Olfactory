{
 "cells": [
  {
   "cell_type": "code",
   "execution_count": null,
   "metadata": {},
   "outputs": [],
   "source": [
    "import scipy as sp\n",
    "import numpy as np"
   ]
  },
  {
   "cell_type": "code",
   "execution_count": null,
   "metadata": {},
   "outputs": [],
   "source": [
    "samplingInterval = 60\n",
    "timeWindow = 51\n",
    "cutlength = 45\n",
    "cutv = 4.1667\n",
    "constv = 34.7/3.6\n",
    "def Likelihoodww(data1,data2,cv):\n",
    "    def f(par):\n",
    "        a = par[1]\n",
    "        b = cv/sp.gamma(1+1/a)"
   ]
  }
 ],
 "metadata": {
  "language_info": {
   "name": "python"
  },
  "orig_nbformat": 4
 },
 "nbformat": 4,
 "nbformat_minor": 2
}
