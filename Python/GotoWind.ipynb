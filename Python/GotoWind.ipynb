{
 "cells": [
  {
   "cell_type": "code",
   "execution_count": 4,
   "metadata": {},
   "outputs": [],
   "source": [
    "import scipy as sp\n",
    "import numpy as np\n",
    "import math\n",
    "import pandas as pd\n",
    "from mpmath import besseli\n",
    "import utm\n",
    "import pyproj, math, datetime\n",
    "from statistics import mode"
   ]
  },
  {
   "cell_type": "code",
   "execution_count": 17,
   "metadata": {},
   "outputs": [],
   "source": [
    "samplingInterval = 60\n",
    "timeWindow = 51\n",
    "cutlength = 45\n",
    "cutv = 4.1667\n",
    "constv = 34.7/3.6\n",
    "\n",
    "def Likelihoodww(data1,data2,cv): # calculate log-likelihood of the model\n",
    "    def f(par):\n",
    "        a = par[1]\n",
    "        b = cv/sp.gamma(1+1/a)\n",
    "        mx = par[2]\n",
    "        my = par[3]\n",
    "        wx = par[4]\n",
    "        wy = par[5]\n",
    "        L = 0\n",
    "        for i in range(len(data1)):\n",
    "            rr = np.sqrt((data1[i]*np.cos(data2[i]) - wx)**2 + (data1[i]*np.sin(data2[i]) - wy)**2)\n",
    "            rx = (data1[i]*np.cos(data2[i])-wx)/rr\n",
    "            ry = (data1[i]*np.sin(data2[i])-wy)/rr\n",
    "            lp = (a-2)*math.log(rr) - (rr/b)**a + mx*rx + my*ry + math.log(a) - math.log(b) + (1-a)*math.log(b) - math.log(besseli(np.sqrt(mx**2 + my**2),0,))\n",
    "            L = L+lp\n",
    "        return L\n",
    "\n",
    "def Weibull_sd(a,b): # standard deviation of Weibull distribution\n",
    "    return b*np.sqrt(sp.gamma(1+2/a) - sp.gamma(1+1/a)*sp.gamma(1+1/a))\n",
    "\n",
    "def Weibull_mean(a,b): # mean of Weibull distribution\n",
    "    return b*sp.gamma(1+1/a)\n",
    "\n",
    "def Von_Mises_sd(kappa): # standard deviation of von Mises distribution\n",
    "    return 1/np.sqrt(kappa)\n",
    "\n",
    "def readAxyGPS(filename): # read in AxyTrek GPS data (txt files)\n",
    "    df = pd.read_csv(filename, sep = \"\\t\", header = None, usecols = [0,1,2,3],\n",
    "    names = ['Date','Time','lat','lon'])\n",
    "    df['DT'] = pd.to_datetime(df['Date'] + \" \" + df['Time'],format=\"%d/%m/%Y %H:%M:%S\")\n",
    "    return df\n",
    "\n",
    "def nearest(items, pivot): # find the nearest time position\n",
    "    return min(items, key=lambda x: abs(x - pivot))\n",
    "\n",
    "def timeRescale(dat,tdiff): # calculated indeces for rescaling time (DT) for regular sampling every tdiff mins\n",
    "    return dat.iloc[np.arange(0,len(dat),step=np.timedelta64(tdiff,'m')/np.timedelta64(mode(np.diff(dat['DT'])),'s')).astype(int),:]\n",
    "\n",
    "def spTrav(DT,lat,lon,threshold=0): # speed from time (DT), lat, and lon\n",
    "    geod = pyproj.Geod(ellps='WGS84')\n",
    "    _, _, distance = geod.inv(lon[0:-2],lat[0:-2],lon[1:-1],lat[1:-1])\n",
    "    speed = (distance*10**-3)/np.array(np.diff(DT)/np.timedelta64(3600,'s'))\n",
    "    if threshold != 0:\n",
    "        while np.nanmax(speed) > threshold:\n",
    "            lat = lat[speed < threshold]\n",
    "            lon = lon[speed < threshold]\n",
    "            _, _, distance = geod.inv(lon[0:-2],lat[0:-2],lon[1:-1],lat[1:-1])\n",
    "            speed = (distance*10**-3)/np.array(np.diff(DT)/np.timedelta64(3600,'s'))\n",
    "    return distance, speed\n",
    "\n",
    "def XYfromUTM(lat,lon):\n",
    "    return utm.from_latlon(lat,lon)"
   ]
  },
  {
   "cell_type": "code",
   "execution_count": 22,
   "metadata": {},
   "outputs": [
    {
     "ename": "ValueError",
     "evalue": "Could not convert object to NumPy timedelta",
     "output_type": "error",
     "traceback": [
      "\u001b[1;31m---------------------------------------------------------------------------\u001b[0m",
      "\u001b[1;31mValueError\u001b[0m                                Traceback (most recent call last)",
      "\u001b[1;32m~\\AppData\\Local\\Temp/ipykernel_7440/70406717.py\u001b[0m in \u001b[0;36m<module>\u001b[1;34m\u001b[0m\n\u001b[0;32m     10\u001b[0m \u001b[0mdat\u001b[0m \u001b[1;33m=\u001b[0m \u001b[0mreadAxyGPS\u001b[0m\u001b[1;33m(\u001b[0m\u001b[0mfiles\u001b[0m\u001b[1;33m[\u001b[0m\u001b[1;36m1\u001b[0m\u001b[1;33m]\u001b[0m\u001b[1;33m)\u001b[0m \u001b[1;31m# read in\u001b[0m\u001b[1;33m\u001b[0m\u001b[1;33m\u001b[0m\u001b[0m\n\u001b[0;32m     11\u001b[0m \u001b[0mminDat\u001b[0m \u001b[1;33m=\u001b[0m \u001b[0mtimeRescale\u001b[0m\u001b[1;33m(\u001b[0m\u001b[0mdat\u001b[0m\u001b[1;33m,\u001b[0m\u001b[1;36m1\u001b[0m\u001b[1;33m)\u001b[0m \u001b[1;31m# convert to 1 min fs\u001b[0m\u001b[1;33m\u001b[0m\u001b[1;33m\u001b[0m\u001b[0m\n\u001b[1;32m---> 12\u001b[1;33m \u001b[0mdt\u001b[0m \u001b[1;33m=\u001b[0m \u001b[0mnp\u001b[0m\u001b[1;33m.\u001b[0m\u001b[0mtimedelta64\u001b[0m\u001b[1;33m(\u001b[0m\u001b[0mnp\u001b[0m\u001b[1;33m.\u001b[0m\u001b[0mdiff\u001b[0m\u001b[1;33m(\u001b[0m\u001b[0mminDat\u001b[0m\u001b[1;33m[\u001b[0m\u001b[1;34m'DT'\u001b[0m\u001b[1;33m]\u001b[0m\u001b[1;33m)\u001b[0m\u001b[1;33m,\u001b[0m\u001b[1;34m's'\u001b[0m\u001b[1;33m)\u001b[0m\u001b[1;33m\u001b[0m\u001b[1;33m\u001b[0m\u001b[0m\n\u001b[0m",
      "\u001b[1;31mValueError\u001b[0m: Could not convert object to NumPy timedelta"
     ]
    }
   ],
   "source": [
    "from sys import platform\n",
    "import os, re, glob, pyproj, math, datetime\n",
    "if platform == \"darwin\":\n",
    "    fileloc = \"/Volumes/GoogleDrive-112399531131798335686/My Drive/PhD/Data/2018Shearwater/AxyTrek/\"\n",
    "else:\n",
    "    fileloc = \"I:/My Drive/PD/Data/2018Shearwater/AxyTrek/\"\n",
    "# list all files\n",
    "files = glob.glob(fileloc + \"**/*.txt\")\n",
    "tags = np.unique([re.search('([0-9\\-]+)[\\\\\\\\|/]',f).group(1) for f in files])\n",
    "dat = readAxyGPS(files[1]) # read in\n",
    "minDat = timeRescale(dat,1) # convert to 1 min fs\n",
    "dt = (np.diff(minDat['DT']) / np.timedelta64(1,'s')).astype(int)"
   ]
  },
  {
   "cell_type": "code",
   "execution_count": 30,
   "metadata": {},
   "outputs": [
    {
     "data": {
      "text/plain": [
       "array([ 52,  61,  61, ...,  60,  61, 430])"
      ]
     },
     "execution_count": 30,
     "metadata": {},
     "output_type": "execute_result"
    }
   ],
   "source": []
  }
 ],
 "metadata": {
  "kernelspec": {
   "display_name": "Python 3.9.6 64-bit",
   "language": "python",
   "name": "python3"
  },
  "language_info": {
   "codemirror_mode": {
    "name": "ipython",
    "version": 3
   },
   "file_extension": ".py",
   "mimetype": "text/x-python",
   "name": "python",
   "nbconvert_exporter": "python",
   "pygments_lexer": "ipython3",
   "version": "3.9.6"
  },
  "orig_nbformat": 4,
  "vscode": {
   "interpreter": {
    "hash": "81794d4967e6c3204c66dcd87b604927b115b27c00565d3d43f05ba2f3a2cb0d"
   }
  }
 },
 "nbformat": 4,
 "nbformat_minor": 2
}
