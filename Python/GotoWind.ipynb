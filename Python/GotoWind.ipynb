{
  "cells": [
    {
      "cell_type": "code",
      "execution_count": 58,
      "metadata": {},
      "outputs": [],
      "source": [
        "import scipy as sp\n",
        "import numpy as np\n",
        "import pandas as pd\n",
        "import utm\n",
        "from statistics import mode\n",
        "import torch\n",
        "import os, re, glob, pyproj, math, datetime\n",
        "from sys import platform\n",
        "from scipy.optimize import minimize\n",
        "import matplotlib.pyplot as plt"
      ]
    },
    {
      "cell_type": "markdown",
      "metadata": {},
      "source": [
        "### Issues arising in likelihood optimisation\n",
        "\n",
        "When generating parameters, the original script uses the R `optim` function to run a custom maximum likelihood estimation. This custom function takes the form of function `f(a,mx,my,wx,wy)` and runs for each speed and direction value ($s$ and $d$, respectively) within the 51 minute window.\n",
        "\n",
        "$\\sum_{i=1}^{n}{a-2 \\times \\log{r_r} - \\left( \\frac{r_r}{b}\\right)^2 + m_xr_x + m_yr_y} + \\log{a} - \\log{b} + (1-a) \\log{I_o(\\sqrt{{m_x}^2 + {m_y}^2})}$\n",
        "\n",
        "where $i,i+1,...,n$ are the values for each minute in the 51 minute window\n",
        "\n",
        "$r_r = \\sqrt{s_i\\cos{d_i} - w_x}$\n",
        "\n",
        "$b = \\frac{c_v}{\\Gamma{(1+1/a)}}$\n",
        "\n",
        "$r_x = \\frac{s_i\\cos{d_i} - w_x}{r_r}$\n",
        "\n",
        "$r_y = \\frac{s_i\\sin{d_i} - w_y}{r_r}$\n",
        "\n",
        "$I_0$ is a zero-ordered modified Bessel function, and $\\Gamma(x)$ is a gamma function."
      ]
    },
    {
      "cell_type": "markdown",
      "metadata": {},
      "source": [
        "### Issues arising in likelihood optimisation\n",
        "\n",
        "When generating parameters, the original script uses the R `optim` function to run a custom maximum likelihood estimation. This custom function takes the form of function `f(a,mx,my,wx,wy)` and runs for each speed and direction value ($s$ and $d$, respectively) within the 51 minute window.\n",
        "\n",
        "$\\sum_{i=1}^{n}{a-2 \\times \\log{r_r} - \\left( \\frac{r_r}{b}\\right)^2 + m_xr_x + m_yr_y} + \\log{a} - \\log{b} + (1-a) \\log{I_o(\\sqrt{{m_x}^2 + {m_y}^2})}$\n",
        "\n",
        "where $i,i+1,...,n$ are the values for each minute in the 51 minute window\n",
        "\n",
        "$r_r = \\sqrt{s_i\\cos{d_i} - w_x}$\n",
        "\n",
        "$b = \\frac{c_v}{\\Gamma{(1+1/a)}}$\n",
        "\n",
        "$r_x = \\frac{s_i\\cos{d_i} - w_x}{r_r}$\n",
        "\n",
        "$r_y = \\frac{s_i\\sin{d_i} - w_y}{r_r}$\n",
        "\n",
        "$I_0$ is a zero-ordered modified Bessel function, and $\\Gamma(x)$ is a gamma function."
      ]
    },
    {
      "cell_type": "code",
      "execution_count": 405,
      "metadata": {},
      "outputs": [],
      "source": [
        "samplingInterval = 60\n",
        "timeWindow = 51\n",
        "cutlength = 45\n",
        "cutv = 4.1667\n",
        "constv = 34.7/3.6\n",
        "\n",
        "def Likelihoodww(data1: np.ndarray,data2: np.ndarray,cv: np.ndarray): # calculate log-likelihood of the model\n",
        "    def f(par):\n",
        "        b = cv/sp.special.gamma(1+1/par[0])\n",
        "        L = 0\n",
        "        for i,j in zip(data1,data2):\n",
        "            r1 = np.sqrt(pow((i*np.cos(j) - par[3]),2) + pow((i*np.sin(j) - par[4]),2))\n",
        "            rx = (i*np.cos(j)-par[3])/r1\n",
        "            ry = (i*np.sin(j)-par[4])/r1\n",
        "            lp = (par[0]-2) * math.log(r1) - (r1/b)**par[0] + par[1]*rx + par[2]*ry + math.log(par[0]) - math.log(b) + (1-par[0])*math.log(b) - math.log(sp.special.iv(0,np.sqrt(pow(par[1],2) + pow(par[2],2)),))\n",
        "            L = L+lp\n",
        "        return -1/L\n",
        "    return f\n",
        "\n",
        "def Weibull_sd(a,b): # standard deviation of Weibull distribution\n",
        "    return b*np.sqrt(sp.special.gamma(1+2/a) - sp.special.gamma(1+1/a)*sp.special.gamma(1+1/a))\n",
        "\n",
        "def Weibull_mean(a,b): # mean of Weibull distribution\n",
        "    return b*sp.special.gamma(1+1/a)\n",
        "\n",
        "def Von_Mises_sd(kappa): # standard deviation of von Mises distribution\n",
        "    return 1/np.sqrt(kappa)\n",
        "\n",
        "def readAxyGPS(filename): # read in AxyTrek GPS data (txt files)\n",
        "    df = pd.read_csv(filename, sep = \"\\t\", header = None, usecols = [0,1,2,3],\n",
        "    names = ['Date','Time','lat','lon'])\n",
        "    df['DT'] = pd.to_datetime(df['Date'] + \" \" + df['Time'],format=\"%d/%m/%Y %H:%M:%S\")\n",
        "    return df\n",
        "\n",
        "def readBIPAxy(filename): # read in AxyTrek data as formatted by BIP system\n",
        "    df = pd.read_csv(filename, sep = \",\", header = 0, usecols = [0,1,2], names = ['DT','lat','lon']).dropna().reset_index()\n",
        "    df['DT'] = pd.to_datetime(df['DT'].str[0:-6], format = \"%Y-%m-%d %H:%M:%S\")\n",
        "    return df\n",
        "\n",
        "def nearest(items, pivot): # find the nearest time position\n",
        "    return min(items, key=lambda x: abs(x - pivot))\n",
        "\n",
        "def timeRescale(dat,tdiff): # calculated indeces for rescaling time (DT) for regular sampling every tdiff mins\n",
        "    return dat.iloc[np.arange(0,len(dat),step=np.timedelta64(tdiff,'m')/np.timedelta64(mode(np.diff(dat['DT'])),'s')).astype(int),:].reset_index()\n",
        "\n",
        "def distLatLon(lat,lon):\n",
        "    X,Y,_,_ = utm.from_latlon(np.array(lat),np.array(lon))\n",
        "    return np.append(np.nan,np.sqrt((np.diff(X))**2 + (np.diff(Y))**2))\n",
        "\n",
        "def spTrav(DT,X,Y,threshold=0): # distance and speed from time (DT), lat, and lon with option for a threshold speed\n",
        "    dist = distLatLon(X,Y)\n",
        "    speed = (dist)/np.array(np.append(np.nan,np.diff(DT)/np.timedelta64(1,'s')))\n",
        "    if threshold != 0:\n",
        "        while np.nanmax(speed) > threshold:\n",
        "            lat = lat[speed < threshold]\n",
        "            lon = lon[speed < threshold]\n",
        "            dist = distLatLon(X,Y)\n",
        "            speed = (dist)/np.array([np.nan,np.diff(DT)/np.timedelta64(1,'s')])\n",
        "    return dist, speed\n",
        "\n",
        "def prePare(filename, convertToMin: bool = True): # prepare BIP data as per required for Goto original method. Adds columns 'dt' (elapsed time from fix to previous time point in seconds), 'dist' (distance travelled from previous point in m), 'track_speed' (in m/sec), 'track_direction' in rad\n",
        "    df = readBIPAxy(filename)\n",
        "    if convertToMin:\n",
        "        df = timeRescale(df,1)\n",
        "    df['dt'] = np.append(np.nan,(np.diff(df['DT']) / np.timedelta64(1,'s')).astype(float))\n",
        "    X,Y,_,_ = utm.from_latlon(np.array(df['lat']),np.array(df['lon']))\n",
        "    vg_x_obs = np.diff(X)\n",
        "    vg_y_obs = np.diff(Y)\n",
        "    df['dist'], df['track_speed'] = spTrav(df['DT'],df['lat'],df['lon'])\n",
        "    df['track_direction'] = np.append(np.nan,[math.atan2(vg_y_obs[x],vg_x_obs[x]) for x in range(len(vg_x_obs))])\n",
        "    return df"
      ]
    },
    {
      "cell_type": "markdown",
      "metadata": {},
      "source": [
        "The `Likelihoodww` function takes as it's arguments two vectors: `data1`, ground speed, later referred to as $x$, `data2`, heading with east at 0 radians increasing counter-clockwise, later referred to as $y$, and `cv`, a mean air speed value estimated at 34.7 kilometers/hour. The function returns another function `f` which takes as it's argument a 5 part value `par`, whose components are assigned in order as follows: $a, m_x, m_y, w_x, w_y$. \n",
        "\n",
        "The variable `b` is generated as $\\dfrac{cv}{\\Gamma(1 + 1/a)}$ where $\\Gamma(z) = \\int_{0}^{\\inf} t^{z - 1}e^{-t}$.\n",
        "\n",
        "`f` then continues to run through a looped calculation for all $i$ values of $x$ and $y$. The loop is as follows and cumulatively adds to $L$ which is originally set at 0.\n",
        "\n",
        "The loop generates the following variables:\n",
        "\n",
        "$r_r = \\sqrt{(x_i \\cos(y_i) - w_x)^2 + (x_i \\sin(y_i) - w_y)^2}$\n",
        "\n",
        "$r_x = \\dfrac{(x_i\\cos(y_i) - wx)}{r_r}$\n",
        "\n",
        "$r_y = \\dfrac{(x_i \\sin{y_i} - wy)}{r_r}$\n",
        "\n",
        "$l_p = (a - 2) \\log{r_r}) - \\dfrac{r_r}{b}^a + m_x r_x + m_y r_y + \\log{a} - \\log{b} + (1-a) \\log{b} - \\log{I_n(\\sqrt{(m_x^2 + m_y^2)})}$\n",
        "\n",
        "where $I_n(x)$ is the modified Bessel function of the first kind where $I_n(x) = i^{-n}J_n(ix)$ and $J_n(x)$ refers to $J_n(x) = \\dfrac{x^n}{2^n \\Gamma (n+1)} {}_0F_1 \\left( n + 1, -\\dfrac{x^2}{4} \\right)$\n",
        "\n",
        "$L = L + lp$"
      ]
    },
    {
      "cell_type": "code",
      "execution_count": 407,
      "metadata": {},
      "outputs": [],
      "source": [
        "# reread data as sample from BIP system\n",
        "if platform == \"darwin\":\n",
        "    filename = \"/Users/aran/Library/CloudStorage/GoogleDrive-a-garrod@g.ecc.u-tokyo.ac.jp/My Drive/PD/Data/TestingData/SampleAxyTrek.csv\"\n",
        "else:\n",
        "    filename = \"I:/My Drive/PD/Data/TestingData/SampleAxyTrek.csv\"\n",
        "df = prePare(filename)"
      ]
    },
    {
      "cell_type": "code",
      "execution_count": 408,
      "metadata": {},
      "outputs": [
        {
          "data": {
            "text/html": [
              "<div>\n",
              "<style scoped>\n",
              "    .dataframe tbody tr th:only-of-type {\n",
              "        vertical-align: middle;\n",
              "    }\n",
              "\n",
              "    .dataframe tbody tr th {\n",
              "        vertical-align: top;\n",
              "    }\n",
              "\n",
              "    .dataframe thead th {\n",
              "        text-align: right;\n",
              "    }\n",
              "</style>\n",
              "<table border=\"1\" class=\"dataframe\">\n",
              "  <thead>\n",
              "    <tr style=\"text-align: right;\">\n",
              "      <th></th>\n",
              "      <th>level_0</th>\n",
              "      <th>index</th>\n",
              "      <th>DT</th>\n",
              "      <th>lat</th>\n",
              "      <th>lon</th>\n",
              "      <th>dt</th>\n",
              "      <th>dist</th>\n",
              "      <th>track_speed</th>\n",
              "      <th>track_direction</th>\n",
              "    </tr>\n",
              "  </thead>\n",
              "  <tbody>\n",
              "    <tr>\n",
              "      <th>0</th>\n",
              "      <td>0</td>\n",
              "      <td>25</td>\n",
              "      <td>2021-08-23 13:50:01</td>\n",
              "      <td>39.41653</td>\n",
              "      <td>142.27312</td>\n",
              "      <td>NaN</td>\n",
              "      <td>NaN</td>\n",
              "      <td>NaN</td>\n",
              "      <td>NaN</td>\n",
              "    </tr>\n",
              "    <tr>\n",
              "      <th>1</th>\n",
              "      <td>2</td>\n",
              "      <td>1550</td>\n",
              "      <td>2021-08-23 13:51:02</td>\n",
              "      <td>39.41669</td>\n",
              "      <td>142.27510</td>\n",
              "      <td>61.0</td>\n",
              "      <td>171.389536</td>\n",
              "      <td>2.809665</td>\n",
              "      <td>0.117927</td>\n",
              "    </tr>\n",
              "    <tr>\n",
              "      <th>2</th>\n",
              "      <td>4</td>\n",
              "      <td>3050</td>\n",
              "      <td>2021-08-23 13:52:02</td>\n",
              "      <td>39.41736</td>\n",
              "      <td>142.27547</td>\n",
              "      <td>60.0</td>\n",
              "      <td>80.902258</td>\n",
              "      <td>1.348371</td>\n",
              "      <td>1.180230</td>\n",
              "    </tr>\n",
              "    <tr>\n",
              "      <th>3</th>\n",
              "      <td>6</td>\n",
              "      <td>4525</td>\n",
              "      <td>2021-08-23 13:53:01</td>\n",
              "      <td>39.41845</td>\n",
              "      <td>142.27297</td>\n",
              "      <td>59.0</td>\n",
              "      <td>246.905323</td>\n",
              "      <td>4.184836</td>\n",
              "      <td>2.643619</td>\n",
              "    </tr>\n",
              "    <tr>\n",
              "      <th>4</th>\n",
              "      <td>8</td>\n",
              "      <td>6025</td>\n",
              "      <td>2021-08-23 13:54:01</td>\n",
              "      <td>39.42005</td>\n",
              "      <td>142.27188</td>\n",
              "      <td>60.0</td>\n",
              "      <td>200.860685</td>\n",
              "      <td>3.347678</td>\n",
              "      <td>2.071005</td>\n",
              "    </tr>\n",
              "    <tr>\n",
              "      <th>...</th>\n",
              "      <td>...</td>\n",
              "      <td>...</td>\n",
              "      <td>...</td>\n",
              "      <td>...</td>\n",
              "      <td>...</td>\n",
              "      <td>...</td>\n",
              "      <td>...</td>\n",
              "      <td>...</td>\n",
              "      <td>...</td>\n",
              "    </tr>\n",
              "    <tr>\n",
              "      <th>8282</th>\n",
              "      <td>16564</td>\n",
              "      <td>14004125</td>\n",
              "      <td>2021-08-30 01:26:05</td>\n",
              "      <td>39.40006</td>\n",
              "      <td>142.00329</td>\n",
              "      <td>61.0</td>\n",
              "      <td>242.256022</td>\n",
              "      <td>3.971410</td>\n",
              "      <td>-1.609463</td>\n",
              "    </tr>\n",
              "    <tr>\n",
              "      <th>8283</th>\n",
              "      <td>16566</td>\n",
              "      <td>14005600</td>\n",
              "      <td>2021-08-30 01:27:04</td>\n",
              "      <td>39.40070</td>\n",
              "      <td>142.00281</td>\n",
              "      <td>59.0</td>\n",
              "      <td>82.183063</td>\n",
              "      <td>1.392933</td>\n",
              "      <td>2.108898</td>\n",
              "    </tr>\n",
              "    <tr>\n",
              "      <th>8284</th>\n",
              "      <td>16568</td>\n",
              "      <td>14007125</td>\n",
              "      <td>2021-08-30 01:28:05</td>\n",
              "      <td>39.40147</td>\n",
              "      <td>141.99859</td>\n",
              "      <td>61.0</td>\n",
              "      <td>373.292817</td>\n",
              "      <td>6.119554</td>\n",
              "      <td>2.921691</td>\n",
              "    </tr>\n",
              "    <tr>\n",
              "      <th>8285</th>\n",
              "      <td>16570</td>\n",
              "      <td>14016950</td>\n",
              "      <td>2021-08-30 01:34:38</td>\n",
              "      <td>39.40080</td>\n",
              "      <td>141.99758</td>\n",
              "      <td>393.0</td>\n",
              "      <td>114.426821</td>\n",
              "      <td>0.291162</td>\n",
              "      <td>-2.423122</td>\n",
              "    </tr>\n",
              "    <tr>\n",
              "      <th>8286</th>\n",
              "      <td>16572</td>\n",
              "      <td>14295325</td>\n",
              "      <td>2021-08-30 04:40:13</td>\n",
              "      <td>39.40144</td>\n",
              "      <td>141.99804</td>\n",
              "      <td>11135.0</td>\n",
              "      <td>81.330266</td>\n",
              "      <td>0.007304</td>\n",
              "      <td>1.073170</td>\n",
              "    </tr>\n",
              "  </tbody>\n",
              "</table>\n",
              "<p>8287 rows × 9 columns</p>\n",
              "</div>"
            ],
            "text/plain": [
              "      level_0     index                  DT       lat        lon       dt  \\\n",
              "0           0        25 2021-08-23 13:50:01  39.41653  142.27312      NaN   \n",
              "1           2      1550 2021-08-23 13:51:02  39.41669  142.27510     61.0   \n",
              "2           4      3050 2021-08-23 13:52:02  39.41736  142.27547     60.0   \n",
              "3           6      4525 2021-08-23 13:53:01  39.41845  142.27297     59.0   \n",
              "4           8      6025 2021-08-23 13:54:01  39.42005  142.27188     60.0   \n",
              "...       ...       ...                 ...       ...        ...      ...   \n",
              "8282    16564  14004125 2021-08-30 01:26:05  39.40006  142.00329     61.0   \n",
              "8283    16566  14005600 2021-08-30 01:27:04  39.40070  142.00281     59.0   \n",
              "8284    16568  14007125 2021-08-30 01:28:05  39.40147  141.99859     61.0   \n",
              "8285    16570  14016950 2021-08-30 01:34:38  39.40080  141.99758    393.0   \n",
              "8286    16572  14295325 2021-08-30 04:40:13  39.40144  141.99804  11135.0   \n",
              "\n",
              "            dist  track_speed  track_direction  \n",
              "0            NaN          NaN              NaN  \n",
              "1     171.389536     2.809665         0.117927  \n",
              "2      80.902258     1.348371         1.180230  \n",
              "3     246.905323     4.184836         2.643619  \n",
              "4     200.860685     3.347678         2.071005  \n",
              "...          ...          ...              ...  \n",
              "8282  242.256022     3.971410        -1.609463  \n",
              "8283   82.183063     1.392933         2.108898  \n",
              "8284  373.292817     6.119554         2.921691  \n",
              "8285  114.426821     0.291162        -2.423122  \n",
              "8286   81.330266     0.007304         1.073170  \n",
              "\n",
              "[8287 rows x 9 columns]"
            ]
          },
          "execution_count": 408,
          "metadata": {},
          "output_type": "execute_result"
        }
      ],
      "source": [
        "# # read in sample\n",
        "# df = pd.read_csv(\"~/Desktop/Simulation_Track.csv\", sep=\",\", header=0).dropna()\n",
        "# df = df.rename(columns=lambda x: x.strip())\n",
        "# # df['DT'] = pd.to_datetime(df['DT'].str[0:-6], format = \"%Y-%m-%d %H:%M:%S\")\n",
        "# df['DT'] = pd.to_datetime(df.Date.astype(str) + \" \" + df.Time.astype(str), format=\"%d/%m/%Y %H:%M:%S\")"
      ]
    },
    {
      "cell_type": "markdown",
      "metadata": {},
      "source": [
        "### Estimation system\n",
        "\n",
        "Once the data are read in, the initial portion of the program deals with identifying suitable windows to run the estimation model. In the original model, these windows require 51 minutes of data. \n",
        "\n",
        "With a sampling frequency $f_s$ of 1 fix per minute, 51 samples would be expected, however, we assume there to be some error in the sampling interval $\\epsilon$. In the original study, $\\epsilon = 5$ seconds (i.e. we can expect samples to be 60 $\\pm$ 5 seconds). Therefore a minimum acceptable number of samples $s_{min}$ is set, in the orginal study $s_{min} = 45$ for a 51 minute window.\n",
        "\n",
        "This program will take a window size $w$ in minutes and from that calculate the expected number of samples $s_e = f_sw$ (e.g. 51 samples per 51 minute window for $f_s = 1$). \n",
        "\n",
        "Sampling interval error $\\epsilon$ is assigned using a 5/60 ratio (i.e. for data with $f_s = 0.5$ or 1 fix every 30 seconds, $\\epsilon = 5f_s = 2.5$ seconds). \n",
        "\n",
        "Finally, $s_{min} = \\frac{45s_e}{51}$.\n",
        "\n",
        "Starting from the first possible startpoint (half the window size in samples), the model then runs through the following processes:\n",
        "\n",
        "1. Define window size.\n",
        "   1. Find position of data which is 25.5 minutes after initial point.\n",
        "   2. Repeat but for before initial point.\n",
        "   3. Assign these positions as start and end of the window.\n",
        "2. Create a new vector of track speed and direction where the speed is above the threshold of 4.1667 m/s, the sample is within 65 s of the previous sample, and direction is not equal to 100."
      ]
    },
    {
      "cell_type": "code",
      "execution_count": 524,
      "metadata": {},
      "outputs": [],
      "source": [
        "# generate a function to create windows capable of running the estimation method. Requirements are 51 minutes of data, with 75% of expected samples\n",
        "def windowFit(DF,start,end,end2,cutT,cutV,cutLength):\n",
        "    if (DF.DT[end] - DF.DT[start]) > np.timedelta64(cutT,'m'):\n",
        "        if sum((DF.track_speed[start:end] > cutV) & (DF.dt[start:end] < cutT) & (DF.track_direction != 100)) >= cutLength:\n",
        "            if (DF.DT[end2 - 1] - DF.DT[start]) < np.timedelta64(cutT,'m'):\n",
        "                while (DF.DT[end2] - DF.DT[start]) < np.timedelta64(cutT,'m'):\n",
        "                    end2 = end2 + 1\n",
        "            return range(start,end2)\n",
        "        \n",
        "def findWindows(DF,windowlength=51): # calculate appropriate windows from datetimes using minimum \n",
        "    # start from minimum possible point\n",
        "    fs = 1/np.abs(np.timedelta64(mode(np.diff(DF.DT)),'m')).astype(int) # in Hz\n",
        "    expSamp = round(51 * fs) # expected number of samples\n",
        "    cutlength = round(45/51 * fs * 51)\n",
        "    error_of_sampling_interval = 5 * fs # give 5 seconds of leeway for samples to be found in\n",
        "    cutt = ((60 * fs) + error_of_sampling_interval).astype(int)\n",
        "    # return list(filter(None,[windowFit(DF,x,x+expSamp,x+cutlength,cutt,cutv,cutlength) for x in range(len(DF) - expSamp)]))"
      ]
    },
    {
      "cell_type": "code",
      "execution_count": 555,
      "metadata": {},
      "outputs": [
        {
          "data": {
            "text/plain": [
              "44"
            ]
          },
          "execution_count": 555,
          "metadata": {},
          "output_type": "execute_result"
        }
      ],
      "source": [
        "# plt.plot(df.track_speed.loc[967:1016])\n",
        "1016-967\n",
        "\n",
        "sum((df.track_speed[967:1018] > cutv))\n",
        "#  & (df.dt[967:1016] < cutt) & (df.track_direction != 100))\n",
        "# np.array(df.track_speed[967:1017])\n",
        "# 1017-966\n",
        "# df.lat[972:1023]"
      ]
    },
    {
      "cell_type": "code",
      "execution_count": 491,
      "metadata": {},
      "outputs": [
        {
          "data": {
            "text/plain": [
              "False"
            ]
          },
          "execution_count": 491,
          "metadata": {},
          "output_type": "execute_result"
        }
      ],
      "source": [
        "# if (DF.DT[end] - DF.DT[start]) > np.timedelta64(cutT,'m'):\n",
        "#     if sum((DF.track_speed[start:end] > cutV) & (DF.dt[start:end] < cutT) & (DF.track_direction != 100)) >= cutLength:\n",
        "#         if (DF.dt[end2 - 1] - DF.dt[start]) < np.timedelta64(cutT,'m'):\n",
        "#             while (DF.dt[end2] - DF.dt[start]) < np.timedelta64(cutT,'m'):\n",
        "#                 end2 = end2 + 1\n",
        "(df.DT[expSamp] - df.DT[0]) > np.timedelta64(65,'m')"
      ]
    },
    {
      "cell_type": "code",
      "execution_count": 462,
      "metadata": {},
      "outputs": [],
      "source": [
        "def windowFit(DF,tp,cutT,cutV,cutLength,windowSize):\n",
        "    nxtPoint = min(range(len(DF.DT)), key=lambda i: abs(DF.DT[i]-DF.DT[tp]))\n",
        "    if (nxtPoint - tp) > cutLength:\n",
        "        if sum((DF.track_speed[start:end] > cutV) & (DF.dt[start:end] < cutT) & (DF.track_direction != 100)) >= cutLength:\n",
        "            return np.array(range(tp,nxtPoint))[[i for i, x in enumerate((DF.track_speed[tp:nxtPoint] > cutV) & (DF.dt[tp:nxtPoint] > cutT) & (DF.track_direction[tp:nxtPoint] != 100)) if x]]\n",
        "\n",
        "# [windowFit(df,x,cutt,cutv,cutlength,51) for x in range((len(df) - 50))]"
      ]
    },
    {
      "cell_type": "code",
      "execution_count": 464,
      "metadata": {},
      "outputs": [
        {
          "ename": "KeyboardInterrupt",
          "evalue": "",
          "output_type": "error",
          "traceback": [
            "\u001b[0;31m---------------------------------------------------------------------------\u001b[0m",
            "\u001b[0;31mKeyboardInterrupt\u001b[0m                         Traceback (most recent call last)",
            "\u001b[1;32m/Users/aran/Documents/GitHub/Olfactory/Python/GotoWind.ipynb Cell 12\u001b[0m in \u001b[0;36m<cell line: 1>\u001b[0;34m()\u001b[0m\n\u001b[1;32m      <a href='vscode-notebook-cell:/Users/aran/Documents/GitHub/Olfactory/Python/GotoWind.ipynb#Y156sZmlsZQ%3D%3D?line=0'>1</a>\u001b[0m \u001b[39mfor\u001b[39;00m x \u001b[39min\u001b[39;00m \u001b[39mrange\u001b[39m((\u001b[39mlen\u001b[39m(df)\u001b[39m-\u001b[39m\u001b[39m50\u001b[39m)):\n\u001b[0;32m----> <a href='vscode-notebook-cell:/Users/aran/Documents/GitHub/Olfactory/Python/GotoWind.ipynb#Y156sZmlsZQ%3D%3D?line=1'>2</a>\u001b[0m     \u001b[39mmin\u001b[39;49m(\u001b[39mrange\u001b[39;49m(\u001b[39mlen\u001b[39;49m(df\u001b[39m.\u001b[39;49mDT)), key\u001b[39m=\u001b[39;49m\u001b[39mlambda\u001b[39;49;00m i: \u001b[39mabs\u001b[39;49m(df\u001b[39m.\u001b[39;49mDT[i]\u001b[39m-\u001b[39;49mdf\u001b[39m.\u001b[39;49mDT[x]))\n",
            "\u001b[1;32m/Users/aran/Documents/GitHub/Olfactory/Python/GotoWind.ipynb Cell 12\u001b[0m in \u001b[0;36m<lambda>\u001b[0;34m(i)\u001b[0m\n\u001b[1;32m      <a href='vscode-notebook-cell:/Users/aran/Documents/GitHub/Olfactory/Python/GotoWind.ipynb#Y156sZmlsZQ%3D%3D?line=0'>1</a>\u001b[0m \u001b[39mfor\u001b[39;00m x \u001b[39min\u001b[39;00m \u001b[39mrange\u001b[39m((\u001b[39mlen\u001b[39m(df)\u001b[39m-\u001b[39m\u001b[39m50\u001b[39m)):\n\u001b[0;32m----> <a href='vscode-notebook-cell:/Users/aran/Documents/GitHub/Olfactory/Python/GotoWind.ipynb#Y156sZmlsZQ%3D%3D?line=1'>2</a>\u001b[0m     \u001b[39mmin\u001b[39m(\u001b[39mrange\u001b[39m(\u001b[39mlen\u001b[39m(df\u001b[39m.\u001b[39mDT)), key\u001b[39m=\u001b[39m\u001b[39mlambda\u001b[39;00m i: \u001b[39mabs\u001b[39m(df\u001b[39m.\u001b[39;49mDT[i]\u001b[39m-\u001b[39mdf\u001b[39m.\u001b[39mDT[x]))\n",
            "File \u001b[0;32m/usr/local/lib/python3.10/site-packages/pandas/core/generic.py:5574\u001b[0m, in \u001b[0;36mNDFrame.__getattr__\u001b[0;34m(self, name)\u001b[0m\n\u001b[1;32m   5566\u001b[0m \u001b[39m# Note: obj.x will always call obj.__getattribute__('x') prior to\u001b[39;00m\n\u001b[1;32m   5567\u001b[0m \u001b[39m# calling obj.__getattr__('x').\u001b[39;00m\n\u001b[1;32m   5568\u001b[0m \u001b[39mif\u001b[39;00m (\n\u001b[1;32m   5569\u001b[0m     name \u001b[39mnot\u001b[39;00m \u001b[39min\u001b[39;00m \u001b[39mself\u001b[39m\u001b[39m.\u001b[39m_internal_names_set\n\u001b[1;32m   5570\u001b[0m     \u001b[39mand\u001b[39;00m name \u001b[39mnot\u001b[39;00m \u001b[39min\u001b[39;00m \u001b[39mself\u001b[39m\u001b[39m.\u001b[39m_metadata\n\u001b[1;32m   5571\u001b[0m     \u001b[39mand\u001b[39;00m name \u001b[39mnot\u001b[39;00m \u001b[39min\u001b[39;00m \u001b[39mself\u001b[39m\u001b[39m.\u001b[39m_accessors\n\u001b[1;32m   5572\u001b[0m     \u001b[39mand\u001b[39;00m \u001b[39mself\u001b[39m\u001b[39m.\u001b[39m_info_axis\u001b[39m.\u001b[39m_can_hold_identifiers_and_holds_name(name)\n\u001b[1;32m   5573\u001b[0m ):\n\u001b[0;32m-> 5574\u001b[0m     \u001b[39mreturn\u001b[39;00m \u001b[39mself\u001b[39;49m[name]\n\u001b[1;32m   5575\u001b[0m \u001b[39mreturn\u001b[39;00m \u001b[39mobject\u001b[39m\u001b[39m.\u001b[39m\u001b[39m__getattribute__\u001b[39m(\u001b[39mself\u001b[39m, name)\n",
            "File \u001b[0;32m/usr/local/lib/python3.10/site-packages/pandas/core/frame.py:3471\u001b[0m, in \u001b[0;36mDataFrame.__getitem__\u001b[0;34m(self, key)\u001b[0m\n\u001b[1;32m   3466\u001b[0m key \u001b[39m=\u001b[39m com\u001b[39m.\u001b[39mapply_if_callable(key, \u001b[39mself\u001b[39m)\n\u001b[1;32m   3468\u001b[0m \u001b[39mif\u001b[39;00m is_hashable(key) \u001b[39mand\u001b[39;00m \u001b[39mnot\u001b[39;00m is_iterator(key):\n\u001b[1;32m   3469\u001b[0m     \u001b[39m# is_iterator to exclude generator e.g. test_getitem_listlike\u001b[39;00m\n\u001b[1;32m   3470\u001b[0m     \u001b[39m# shortcut if the key is in columns\u001b[39;00m\n\u001b[0;32m-> 3471\u001b[0m     \u001b[39mif\u001b[39;00m \u001b[39mself\u001b[39m\u001b[39m.\u001b[39mcolumns\u001b[39m.\u001b[39mis_unique \u001b[39mand\u001b[39;00m key \u001b[39min\u001b[39;49;00m \u001b[39mself\u001b[39;49m\u001b[39m.\u001b[39;49mcolumns:\n\u001b[1;32m   3472\u001b[0m         \u001b[39mif\u001b[39;00m \u001b[39misinstance\u001b[39m(\u001b[39mself\u001b[39m\u001b[39m.\u001b[39mcolumns, MultiIndex):\n\u001b[1;32m   3473\u001b[0m             \u001b[39mreturn\u001b[39;00m \u001b[39mself\u001b[39m\u001b[39m.\u001b[39m_getitem_multilevel(key)\n",
            "File \u001b[0;32m/usr/local/lib/python3.10/site-packages/pandas/core/indexes/base.py:4987\u001b[0m, in \u001b[0;36mIndex.__contains__\u001b[0;34m(self, key)\u001b[0m\n\u001b[1;32m   4979\u001b[0m     warnings\u001b[39m.\u001b[39mwarn(\n\u001b[1;32m   4980\u001b[0m         \u001b[39m\"\u001b[39m\u001b[39mIndex.is_type_compatible is deprecated and will be removed in a \u001b[39m\u001b[39m\"\u001b[39m\n\u001b[1;32m   4981\u001b[0m         \u001b[39m\"\u001b[39m\u001b[39mfuture version.\u001b[39m\u001b[39m\"\u001b[39m,\n\u001b[1;32m   4982\u001b[0m         \u001b[39mFutureWarning\u001b[39;00m,\n\u001b[1;32m   4983\u001b[0m         stacklevel\u001b[39m=\u001b[39mfind_stack_level(),\n\u001b[1;32m   4984\u001b[0m     )\n\u001b[1;32m   4985\u001b[0m     \u001b[39mreturn\u001b[39;00m kind \u001b[39m==\u001b[39m \u001b[39mself\u001b[39m\u001b[39m.\u001b[39minferred_type\n\u001b[0;32m-> 4987\u001b[0m \u001b[39mdef\u001b[39;00m \u001b[39m__contains__\u001b[39m(\u001b[39mself\u001b[39m, key: Any) \u001b[39m-\u001b[39m\u001b[39m>\u001b[39m \u001b[39mbool\u001b[39m:\n\u001b[1;32m   4988\u001b[0m     \u001b[39m\"\"\"\u001b[39;00m\n\u001b[1;32m   4989\u001b[0m \u001b[39m    Return a boolean indicating whether the provided key is in the index.\u001b[39;00m\n\u001b[1;32m   4990\u001b[0m \n\u001b[0;32m   (...)\u001b[0m\n\u001b[1;32m   5020\u001b[0m \u001b[39m    False\u001b[39;00m\n\u001b[1;32m   5021\u001b[0m \u001b[39m    \"\"\"\u001b[39;00m\n\u001b[1;32m   5022\u001b[0m     \u001b[39mhash\u001b[39m(key)\n",
            "\u001b[0;31mKeyboardInterrupt\u001b[0m: "
          ]
        }
      ],
      "source": [
        "for x in range((len(df)-50)):\n",
        "    min(range(len(df.DT)), key=lambda i: abs(df.DT[i]-df.DT[x]))"
      ]
    },
    {
      "cell_type": "code",
      "execution_count": 459,
      "metadata": {},
      "outputs": [
        {
          "data": {
            "text/plain": [
              "array([5, 8, 9])"
            ]
          },
          "execution_count": 459,
          "metadata": {},
          "output_type": "execute_result"
        }
      ],
      "source": [
        "np.array(range(5,10))[[i for i, x in enumerate([True,False,False,True,True]) if x]]\n",
        "\n",
        "\n",
        "# [[i for i, x in enumerate((df.track_speed[tp:nxtPoint] > cutv) & (df.dt[tp:nxtPoint] > cutt) & (df.track_direction[tp:nxtPoint] != 100)) if x]]\n",
        "# \n",
        "# sum((df.track_speed[tp:nxtPoint] > cutv) & (df.dt[tp:nxtPoint] > cutt) & (df.track_direction[tp:nxtPoint] != 100))"
      ]
    },
    {
      "cell_type": "code",
      "execution_count": 422,
      "metadata": {},
      "outputs": [
        {
          "data": {
            "text/plain": [
              "8286"
            ]
          },
          "execution_count": 422,
          "metadata": {},
          "output_type": "execute_result"
        }
      ],
      "source": [
        "df.DT[761] #+ expSamp\n",
        "df.DT[761 + expSamp] - df.DT[761]\n",
        "df.DT[761]\n",
        "# 761 + expSamp\n",
        "# df.DT[761] + np.timedelta64(51,'m')\n",
        "\n"
      ]
    },
    {
      "cell_type": "code",
      "execution_count": null,
      "metadata": {},
      "outputs": [],
      "source": [
        "(DF.dt[end] - DF.dt[start]) > np.timedelta64(cutT,'m'):\n",
        "\n",
        "# sum((df.track_speed[start:end] > cutV) & (df.deltaT[start:end] < cutT) & (df.track_direction != 100)) >= cutLength:\n",
        "\n",
        "# (DF.dt[end2 - 1] - DF.dt[start]) < np.timedelta64(cutt,'m'):\n",
        "\n",
        "# (DF.dt[end2] - DF.dt[start]) < np.timedelta64(cutt,'m'):\n",
        "# end2 = end2 + 1"
      ]
    },
    {
      "cell_type": "code",
      "execution_count": 363,
      "metadata": {},
      "outputs": [
        {
          "data": {
            "text/plain": [
              "numpy.timedelta64(30,'s')"
            ]
          },
          "execution_count": 363,
          "metadata": {},
          "output_type": "execute_result"
        }
      ],
      "source": [
        "df2 = df.loc[(df.dt < cutt) & (~np.isnan(df.dt)) & (df.track_speed > cutv) & (df.track_direction != 100),].reset_index()\n",
        "# windows = findWindows(df2,51)\n",
        "# for x in range(len(df2) - cutlength):\n",
        "#     windowFit(df2.DT,x,x+expSamp,cutlength,51)\n",
        "# windows\n",
        "# 1/np.abs(np.timedelta64(mode(np.diff(df.DT)),'m')).astype(int)\n",
        "np.timedelta64(mode(np.diff(df.DT)),'s')"
      ]
    },
    {
      "cell_type": "code",
      "execution_count": 305,
      "metadata": {},
      "outputs": [
        {
          "data": {
            "text/plain": [
              "range(0, 4708)"
            ]
          },
          "execution_count": 305,
          "metadata": {},
          "output_type": "execute_result"
        }
      ],
      "source": [
        "df2 = df.loc[(df.dt < cutt) & (~np.isnan(df.dt)) & (df.track_speed > cutv) & (df.track_direction != 100),].reset_index()\n",
        "# df\n",
        "# df2.DT.iloc[expSamp - 1] - df2.DT.iloc[0]\n",
        "(df2.DT[50] - df2.DT[0]) > np.timedelta64(cutt,'m')\n",
        "(df2.DT[cutlength] - df2.DT[0]) < np.timedelta64(cutt,'m')\n",
        "# df2[(4753 - cutlength),]\n",
        "range(len(df2) - cutlength)"
      ]
    },
    {
      "cell_type": "markdown",
      "metadata": {},
      "source": [
        "Run through each datetime value from 1 to end - cutlength. First test if `datetime[i]:datetime[i+51]` is over 51 mins. If yes, then find if `datetime[i]:datetime[i+cutlength]` is over 51 mins. If no, set up a while loop to identify at what index the value is over 51 minutes."
      ]
    },
    {
      "cell_type": "markdown",
      "metadata": {},
      "source": [
        "## Process:\n",
        "\n",
        "At this stage, the model starts to run through a variety of 'initial headings', set as each integer between -3 and 3. For each initial heading, the following processes are run:\n",
        "\n",
        "1. Create variable `inita` as a random variable generated from a normal distribution with mean 12.5 and standard deviation 5. `inita` must be greater than 5.\n",
        "2. Calculate the mean heading from all headings within the window that passed the above requirements.\n",
        "3. The sum of the initial heading and the mean heading is determined, and using these data, the following variables are estimated:\n",
        "   1. `kappa`: the concentration parameter for a von Mises distribution\n",
        "   2. `mux` and `muy`: the x and y components of `kappa`\n",
        "   3. `wx` and `wy`: the x and y components of wind (the track vector - the heading)\n",
        "4. The `inita`, `mux`, `muy`, `wx`, and `wy` variables are then optimised using log-likelihood and track speed and direction data alongside a constant assumed mean air speed (34.7 m/s).\n",
        "5. The standard deviation of the heading vector perpendicular to the mean direction `yoko` and the standard deviation of the heading vector along the mean direction `tate` are calculated.\n",
        "\n",
        "If convergence is not reached but `tate` can be calculated, the process is repeated until convergence is reached.\n",
        "\n",
        "\n",
        "1. First identify a suitable window.\n",
        "   1. Determine the start and end such that they are greater than `windwidthsec` apart.\n",
        "   2. Extract only data where the speed is greater than `cutv`, time difference is less than `cutt`, and the heading is not equal to 100 (when direction cannot be calculated i.e. track speed = 0).\n",
        "2. If the resultant window is greater in length than `cutlength`, proceed to maximum likelihood modelling."
      ]
    },
    {
      "cell_type": "code",
      "execution_count": 171,
      "metadata": {},
      "outputs": [],
      "source": [
        "# remove low speed values and where time differences are too long\n",
        "dfRm = df[(df['track_speed'] > cutv) & (df['dt'] < cutt)].reset_index()\n",
        "# find suitable windows\n",
        "windows = findWindows(dfRm['DT'],51)\n",
        "rrow = dfRm.track_speed\n",
        "drow = dfRm.track_direction"
      ]
    },
    {
      "cell_type": "markdown",
      "metadata": {},
      "source": [
        "In R, the function `A1inv` returns a value `k` from input argument `r` such that\n",
        "\n",
        "$A1inv(k) = A1(r)$\n",
        "\n",
        "where \n",
        "\n",
        "$A1(r) = \\frac{I_1(\\kappa)}{I_0(\\kappa)}$\n",
        "\n",
        "where $I_1$ and $I_0$ are the first and zeroth order Bessel functions, respectively.\n",
        "\n",
        "However, Python does not have such a function, but the `circular` package has a [GitHub page](https://github.com/cran/circular) documenting the functions, including `A1inv` and so we can now simply implement this within Python as a new function."
      ]
    },
    {
      "cell_type": "code",
      "execution_count": null,
      "metadata": {
        "trusted": true
      },
      "outputs": [],
      "source": [
        "def A1inv(x):\n",
        "    if ((0 <= x) * (x < 0.53)):\n",
        "        return 2 * x + pow(x,3) + (5 * pow(x,5))/6\n",
        "    else:\n",
        "        if (x < 0.85):\n",
        "            return -0.4 + 1.39 * x + 0.43/(1-x)\n",
        "        else:\n",
        "            return 1/(pow(x,3) - 4 * pow(x,2) + 3 * x)"
      ]
    },
    {
      "cell_type": "markdown",
      "metadata": {},
      "source": [
        "The initial method ran through a loop groung through every potential fitting time window. Instead, I think it would be best to optimise the process by first identifying usable windows then running through all those. This would remove the processing time for all none-fitting windows.\n",
        "\n",
        "Suitable windows are ones which pass the following requirements:\n",
        "1. Window length is greater or equal to minimum window size in seconds\n",
        "2. Windows contain sufficient number of data points (75% of expected samples)\n",
        "3. Data in window must be collected at speeds greater than the minimum ground speed (4.1667 m/s)"
      ]
    },
    {
      "cell_type": "markdown",
      "metadata": {},
      "source": [
        "To speed up calculation, create two versions, one which generates winds every hour or so. Wind should not change so frequently and this may be optimal for more users. Also very useful for trial users."
      ]
    },
    {
      "cell_type": "code",
      "execution_count": 173,
      "metadata": {},
      "outputs": [],
      "source": [
        "# windProcess(df.track_speed[965:1014],df.track_direction[965:1014],range(-3,3),constv)\n",
        "\n",
        "# set initial value for max likelihood and best answer\n",
        "max_like = np.nan\n",
        "answ_best = np.nan\n",
        "# loop through each hd_try value\n",
        "for heading in range(-3,3):\n",
        "    # create initial parameters to maximise likelihood function\n",
        "    initPars = initHead(heading,df.track_speed[965:1014],df.track_direction[965:1014],constv)\n",
        "    # run first optimisation\n",
        "    answ = windOptims(df.track_speed[965:1014],df.track_direction[965:1014],constv,initPars)\n",
        "    # generate sd of heading vector perp to mean direction and along mean direction\n",
        "    yoko,tate = yokoTate(answ,constv)\n",
        "    # # repeat MLE to ensure optimisation convergence\n",
        "    if answ.success:\n",
        "        answ = ensureOptimConv(answ,df.track_speed[965:1014],df.track_direction[965:1014],constv)\n",
        "        yoko,tate = yokoTate(answ,constv)\n",
        "    # if successfully converged\n",
        "    if answ.success:\n",
        "        nr, nd = headSpDir(df.track_speed[965:1014],df.track_direction[965:1014],answ.x[3],answ.x[4])\n",
        "        # define mean heading\n",
        "        meangd = np.arctan2(np.mean(np.sin(df.track_direction[965:1014])),np.mean(np.cos(df.track_direction[965:1014])))\n",
        "        # test goodness of fit\n",
        "        if np.isnan(max_like) & (corrTests(nr,nd,answ,yoko,tate,constv,meangd) == 1):\n",
        "            max_like = answ.fun\n",
        "            answ_best = answ\n",
        "        else:\n",
        "            answ_best = np.nan\n",
        "        if (answ.fun > max_like) & (corrTests(nr,nd,answ,yoko,tate,constv,meangd) == 1):\n",
        "            max_like = answ.fun\n",
        "            answ_best = answ\n",
        "        else:\n",
        "            answ_best = np.nan"
      ]
    },
    {
      "cell_type": "code",
      "execution_count": 179,
      "metadata": {},
      "outputs": [
        {
          "data": {
            "text/plain": [
              "(nan, nan)"
            ]
          },
          "execution_count": 179,
          "metadata": {},
          "output_type": "execute_result"
        }
      ],
      "source": [
        "# for x in windows[0:10]:\n",
        "#     print(windProcess(df.track_speed[x],df.track_direction[x],range(-3,3),constv))\n",
        "windProcess(df.track_speed[966:1015],df.track_direction[x],range(-3,3),constv)"
      ]
    },
    {
      "cell_type": "code",
      "execution_count": 121,
      "metadata": {},
      "outputs": [
        {
          "data": {
            "text/plain": [
              "PearsonRResult(statistic=-0.230828842500166, pvalue=0.1031706811005095)"
            ]
          },
          "execution_count": 121,
          "metadata": {},
          "output_type": "execute_result"
        }
      ],
      "source": [
        "# answ.x = [6.033869,25.836523,-6.398774,-6.269189,11.549025]\n",
        "# yoko,tate = yokoTate(answ,constv)\n",
        "# Von_Mises_sd(np.sqrt(answ.x[2]*answ.x[2]+answ.x[1]*answ.x[1]))*Weibull_mean(answ.x[0],constv/sp.special.gamma(1+1/answ.x[0]))\n",
        "# speed of heading vector\n",
        "nrp = sp.stats.kstest(nr,'weibull_min',args=[answ.x[0],constv/sp.special.gamma(1+1/answ.x[0])])\n",
        "# # direction of heading vector\n",
        "mu = math.atan2(answ.x[2],answ.x[1])\n",
        "kappa = np.sqrt(pow(answ.x[1],2) + answ.x[2]*answ.x[2])\n",
        "ndp = sp.stats.kstest(nd,'vonmises',args=[kappa,mu])\n",
        "# # correlation test between direction and speed of heading vector\n",
        "cnrnd = sp.stats.pearsonr(nr,nd)\n",
        "# # describe conditions required\n",
        "# cond1 = (yoko/tate) > 1\n",
        "# cond2 = (np.cos(meangd)*np.cos(mu) + np.sin(meangd)*np.sin(mu)) > 0\n",
        "# cond3 = (nrp.pvalue > 0.05) * (ndp.pvalue > 0.05) * (cnrnd.pvalue > 0.05)\n",
        "cnrnd"
      ]
    }
  ],
  "metadata": {
    "kernelspec": {
      "display_name": "Python 3.9.6 64-bit",
      "language": "python",
      "name": "python3"
    },
    "language_info": {
      "codemirror_mode": {
        "name": "ipython",
        "version": 3
      },
      "file_extension": ".py",
      "mimetype": "text/x-python",
      "name": "python",
      "nbconvert_exporter": "python",
      "pygments_lexer": "ipython3",
      "version": "3.9.6"
    },
    "vscode": {
      "interpreter": {
        "hash": "81794d4967e6c3204c66dcd87b604927b115b27c00565d3d43f05ba2f3a2cb0d"
      }
    }
  },
  "nbformat": 4,
  "nbformat_minor": 4
}
