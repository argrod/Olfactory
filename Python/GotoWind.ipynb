{
 "cells": [
  {
   "cell_type": "code",
   "execution_count": 1,
   "metadata": {},
   "outputs": [],
   "source": [
    "import scipy as sp\n",
    "import numpy as np\n",
    "import math\n",
    "import pandas as pd\n",
    "from mpmath import besseli\n",
    "import utm\n",
    "import pyproj, datetime\n",
    "from statistics import mode"
   ]
  },
  {
   "cell_type": "code",
   "execution_count": 2,
   "metadata": {},
   "outputs": [],
   "source": [
    "samplingInterval = 60\n",
    "timeWindow = 51\n",
    "cutlength = 45\n",
    "cutv = 4.1667\n",
    "constv = 34.7/3.6\n",
    "\n",
    "def Likelihoodww(data1,data2,cv): # calculate log-likelihood of the model\n",
    "    def f(par):\n",
    "        a = par[1]\n",
    "        b = cv/sp.gamma(1+1/a)\n",
    "        mx = par[2]\n",
    "        my = par[3]\n",
    "        wx = par[4]\n",
    "        wy = par[5]\n",
    "        L = 0\n",
    "        for i in range(len(data1)):\n",
    "            rr = np.sqrt((data1[i]*np.cos(data2[i]) - wx)**2 + (data1[i]*np.sin(data2[i]) - wy)**2)\n",
    "            rx = (data1[i]*np.cos(data2[i])-wx)/rr\n",
    "            ry = (data1[i]*np.sin(data2[i])-wy)/rr\n",
    "            lp = (a-2)*math.log(rr) - (rr/b)**a + mx*rx + my*ry + math.log(a) - math.log(b) + (1-a)*math.log(b) - math.log(besseli(np.sqrt(mx**2 + my**2),0,))\n",
    "            L = L+lp\n",
    "        return L\n",
    "\n",
    "def Weibull_sd(a,b): # standard deviation of Weibull distribution\n",
    "    return b*np.sqrt(sp.gamma(1+2/a) - sp.gamma(1+1/a)*sp.gamma(1+1/a))\n",
    "\n",
    "def Weibull_mean(a,b): # mean of Weibull distribution\n",
    "    return b*sp.gamma(1+1/a)\n",
    "\n",
    "def Von_Mises_sd(kappa): # standard deviation of von Mises distribution\n",
    "    return 1/np.sqrt(kappa)\n",
    "\n",
    "def readAxyGPS(filename): # read in AxyTrek GPS data (txt files)\n",
    "    df = pd.read_csv(filename, sep = \"\\t\", header = None, usecols = [0,1,2,3],\n",
    "    names = ['Date','Time','lat','lon'])\n",
    "    df['DT'] = pd.to_datetime(df['Date'] + \" \" + df['Time'],format=\"%d/%m/%Y %H:%M:%S\")\n",
    "    return df\n",
    "\n",
    "def nearest(items, pivot): # find the nearest time position\n",
    "    return min(items, key=lambda x: abs(x - pivot))\n",
    "\n",
    "def timeRescale(dat,tdiff): # calculated indeces for rescaling time (DT) for regular sampling every tdiff mins\n",
    "    return dat.iloc[np.arange(0,len(dat),step=np.timedelta64(tdiff,'m')/np.timedelta64(mode(np.diff(dat['DT'])),'s')).astype(int),:]\n",
    "\n",
    "def spTrav(DT,lat,lon,threshold=0): # speed from time (DT), lat, and lon\n",
    "    geod = pyproj.Geod(ellps='WGS84')\n",
    "    _, _, distance = geod.inv(lon[0:-2],lat[0:-2],lon[1:-1],lat[1:-1])\n",
    "    speed = (distance*10**-3)/np.array(np.diff(DT)/np.timedelta64(3600,'s'))\n",
    "    if threshold != 0:\n",
    "        while np.nanmax(speed) > threshold:\n",
    "            lat = lat[speed < threshold]\n",
    "            lon = lon[speed < threshold]\n",
    "            _, _, distance = geod.inv(lon[0:-2],lat[0:-2],lon[1:-1],lat[1:-1])\n",
    "            speed = (distance*10**-3)/np.array(np.diff(DT)/np.timedelta64(3600,'s'))\n",
    "    return distance, speed\n",
    "\n",
    "def XYfromUTM(lat,lon):\n",
    "    return utm.from_latlon(lat,lon)"
   ]
  },
  {
   "cell_type": "code",
   "execution_count": 12,
   "metadata": {},
   "outputs": [],
   "source": [
    "from sys import platform\n",
    "import os, re, glob, pyproj, math, datetime\n",
    "if platform == \"darwin\":\n",
    "    fileloc = \"/Volumes/GoogleDrive-112399531131798335686/My Drive/PhD/Data/2018Shearwater/AxyTrek/\"\n",
    "else:\n",
    "    fileloc = \"I:/My Drive/PD/Data/2018Shearwater/AxyTrek/\"\n",
    "# list all files\n",
    "files = glob.glob(fileloc + \"**/*.txt\")\n",
    "tags = np.unique([re.search('(AxyTrek[\\\\\\\\|/][0-9\\-]+)[\\\\\\\\|/]',f).group(1) for f in files])\n",
    "dat = readAxyGPS(files[1]) # read in\n",
    "minDat = timeRescale(dat,1) # convert to 1 min fs\n",
    "dt = (np.diff(minDat['DT']) / np.timedelta64(1,'s')).astype(int)"
   ]
  },
  {
   "cell_type": "code",
   "execution_count": 41,
   "metadata": {},
   "outputs": [],
   "source": [
    "X,Y,_,_ = XYfromUTM(np.array(minDat['lat']),np.array(minDat['lon']))\n",
    "vg_x_obs = np.diff(X)\n",
    "vg_y_obs = np.diff(Y)\n",
    "track_speed = np.sqrt(vg_y_obs**2 + vg_x_obs**2)/dt\n",
    "track_direction = [math.atan2(vg_y_obs[x],vg_x_obs[x]) for x in range(len(vg_x_obs))]\n",
    "time_window = 51\n",
    "cutlength = 45\n",
    "cutv = 4.1667\n",
    "constv = 34.7/3.6\n",
    "sampling_interval = np.timedelta64(mode(np.diff(dat['DT'])),'s').astype(int)\n",
    "error_of_sampling_interval = 5\n",
    "cutt = sampling_interval + error_of_sampling_interval\n",
    "winwidth = time_window - 1"
   ]
  },
  {
   "cell_type": "code",
   "execution_count": 43,
   "metadata": {},
   "outputs": [],
   "source": [
    "rrow = track_speed\n",
    "drow = track_direction\n",
    "tp = dat['DT']\n",
    "startpoint = math.floor((winwidth*(60/sampling_interval))/2)\n",
    "endpoint = len(rrow) - startpoint"
   ]
  },
  {
   "cell_type": "code",
   "execution_count": 48,
   "metadata": {},
   "outputs": [],
   "source": [
    "def checkWindowT(dt,center,windwidthsec):\n",
    "    entr = 0\n",
    "    passesE = False\n",
    "    for qf in range(len(dt) - center):\n",
    "        entr = entr + dt[center + qf]\n",
    "        if entr > windwidthsec:\n",
    "            passesE = True\n",
    "            break\n",
    "    entr = 0\n",
    "    passesS = False\n",
    "    for qb in range(center-1):\n",
    "        entr = entr + dt[center-qb]\n",
    "        if entr > windwidthsec:\n",
    "            passesS = True\n",
    "            break\n",
    "    return passesE * passesS\n",
    "\n",
    "def trackVectors():"
   ]
  },
  {
   "cell_type": "code",
   "execution_count": 47,
   "metadata": {},
   "outputs": [
    {
     "data": {
      "text/plain": [
       "range(0, 15)"
      ]
     },
     "execution_count": 47,
     "metadata": {},
     "output_type": "execute_result"
    }
   ],
   "source": []
  }
 ],
 "metadata": {
  "kernelspec": {
   "display_name": "Python 3.8.9 64-bit",
   "language": "python",
   "name": "python3"
  },
  "language_info": {
   "codemirror_mode": {
    "name": "ipython",
    "version": 3
   },
   "file_extension": ".py",
   "mimetype": "text/x-python",
   "name": "python",
   "nbconvert_exporter": "python",
   "pygments_lexer": "ipython3",
   "version": "3.8.9"
  },
  "orig_nbformat": 4,
  "vscode": {
   "interpreter": {
    "hash": "31f2aee4e71d21fbe5cf8b01ff0e069b9275f58929596ceb00d14d90e3e16cd6"
   }
  }
 },
 "nbformat": 4,
 "nbformat_minor": 2
}
