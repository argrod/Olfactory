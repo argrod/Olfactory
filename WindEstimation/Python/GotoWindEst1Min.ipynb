{
 "cells": [
  {
   "cell_type": "code",
   "execution_count": 7,
   "metadata": {},
   "outputs": [],
   "source": [
    "import numpy as np\n",
    "import scipy.special as sps"
   ]
  },
  {
   "cell_type": "markdown",
   "metadata": {},
   "source": [
    "### Log-Likelihood function\n",
    "\n",
    "Given three arguments, outputs a function with 5 parameters. "
   ]
  },
  {
   "cell_type": "code",
   "execution_count": 69,
   "metadata": {},
   "outputs": [],
   "source": [
    "def Likelihoodww(data1,data2,cv):\n",
    "    def f(par):\n",
    "        a = par[0]\n",
    "        b = cv/sps.gamma(1+1/a)\n",
    "        mx = par[1]\n",
    "        my = par[2]\n",
    "        wx = par[3]\n",
    "        wy = par[4]\n",
    "        L = 0\n",
    "        for i in range(len(data1)):\n",
    "            rr = np.sqrt((data1[i]*np.cos(data2[i])-wx)**2 + (data1[i]*np.sin(data2[i])-wy)**2)\n",
    "            rx = (data1[i]*np.cos(data2[i])-wx)/rr\n",
    "            ry = (data1[i]*np.sin(data2[i])-wy)/rr\n",
    "            lp = (a - 2)*np.log(rr) - (rr/b)**a + mx*rx + my*ry + np.log(a) - np.lob(b) + (1 - a) * np.log(b) - np.log(sps.iv(0,np.sqrt(mx**2 + my**2)))\n",
    "            L = L + lp\n",
    "        return L"
   ]
  },
  {
   "cell_type": "markdown",
   "metadata": {},
   "source": [
    "### Standard deviation and mean of the Weibull distribution"
   ]
  },
  {
   "cell_type": "code",
   "execution_count": 70,
   "metadata": {},
   "outputs": [],
   "source": [
    "def Weibull_sd(a,b):\n",
    "    return b*np.sqrt(sps.gamma(1 + 2/a) - sps.gamma(1 + 1/a) * sps.gamma(1 + 1/a))\n",
    "\n",
    "def Weibull_mean(a,b):\n",
    "    return b * sps.gamma(1 + 1/a)"
   ]
  },
  {
   "cell_type": "markdown",
   "metadata": {},
   "source": [
    "### Standard deviation of the von-Mises distribution (approximated to Gaussian)"
   ]
  },
  {
   "cell_type": "code",
   "execution_count": 71,
   "metadata": {},
   "outputs": [],
   "source": [
    "def Von_Mises_sd(kappa):\n",
    "    return 1/np.sqrt(kappa)"
   ]
  },
  {
   "cell_type": "markdown",
   "metadata": {},
   "source": [
    "## Algorithm process\n",
    "\n",
    "Currently the algorithm works on data subsampled to reflect the sampling rate of the intial study, i.e. one fix per minute. Initial data processing essentially subsample the data to fit this sample rate.\n",
    "\n",
    "Following initial data 'cleaning', the next steps are all about finding periods of data with sufficient samples for the process to run. 80% of the expected number of samples for the time window (51 minutes), extracted from the sampling rate, are required (in this case, 40 samples)."
   ]
  },
  {
   "cell_type": "code",
   "execution_count": 67,
   "metadata": {},
   "outputs": [
    {
     "data": {
      "text/plain": [
       "2.0"
      ]
     },
     "execution_count": 67,
     "metadata": {},
     "output_type": "execute_result"
    }
   ],
   "source": [
    "for center in startpoint:endpoint:\n",
    "    windwidthsec = (windwidth/2) * 60 * 15\n",
    "\n",
    "    inter = 0\n",
    "\n",
    "    for qf in range(len(dt) - center):\n",
    "        inter = inter + dt[center+qf]\n",
    "        if inter > windwidthsec:\n",
    "            break\n",
    "    \n",
    "    inter = 0\n",
    "    for qb in 0:center-1:\n",
    "        inter = inter + dt[center - qb]\n",
    "        if inter > windwidthsec:\n",
    "            break\n",
    "\n",
    "    end = center + qf - 1\n",
    "    "
   ]
  },
  {
   "cell_type": "code",
   "execution_count": 30,
   "metadata": {},
   "outputs": [
    {
     "data": {
      "text/plain": [
       "<matplotlib.collections.PathCollection at 0x162dffbe0>"
      ]
     },
     "execution_count": 30,
     "metadata": {},
     "output_type": "execute_result"
    },
    {
     "data": {
      "image/png": "[encoded data removed]",
      "text/plain": [
       "<Figure size 432x288 with 1 Axes>"
      ]
     },
     "metadata": {
      "needs_background": "light"
     },
     "output_type": "display_data"
    }
   ],
   "source": [
    "import matplotlib.pyplot as plt\n",
    "plt.scatter(1,sps.jv([4],0))"
   ]
  },
  {
   "cell_type": "code",
   "execution_count": 35,
   "metadata": {},
   "outputs": [
    {
     "data": {
      "text/plain": [
       "0.012483498887268428"
      ]
     },
     "execution_count": 35,
     "metadata": {},
     "output_type": "execute_result"
    }
   ],
   "source": [
    "sps.k1(4)"
   ]
  },
  {
   "cell_type": "code",
   "execution_count": 38,
   "metadata": {},
   "outputs": [
    {
     "ename": "TypeError",
     "evalue": "return arrays must be of ArrayType",
     "output_type": "error",
     "traceback": [
      "\u001b[0;31m---------------------------------------------------------------------------\u001b[0m",
      "\u001b[0;31mTypeError\u001b[0m                                 Traceback (most recent call last)",
      "\u001b[0;32m/var/folders/1q/8hhgns2571l3lnb8pvlsbkpm0000gn/T/ipykernel_13653/1996740891.py\u001b[0m in \u001b[0;36m<module>\u001b[0;34m\u001b[0m\n\u001b[0;32m----> 1\u001b[0;31m \u001b[0msum\u001b[0m\u001b[0;34m(\u001b[0m\u001b[0msps\u001b[0m\u001b[0;34m.\u001b[0m\u001b[0mk1\u001b[0m\u001b[0;34m(\u001b[0m\u001b[0mnp\u001b[0m\u001b[0;34m.\u001b[0m\u001b[0marray\u001b[0m\u001b[0;34m(\u001b[0m\u001b[0mnp\u001b[0m\u001b[0;34m.\u001b[0m\u001b[0mlinspace\u001b[0m\u001b[0;34m(\u001b[0m\u001b[0;36m0\u001b[0m\u001b[0;34m,\u001b[0m\u001b[0;36m15\u001b[0m\u001b[0;34m,\u001b[0m\u001b[0;36m500\u001b[0m\u001b[0;34m)\u001b[0m\u001b[0;34m)\u001b[0m\u001b[0;34m,\u001b[0m\u001b[0;36m0\u001b[0m\u001b[0;34m)\u001b[0m\u001b[0;34m)\u001b[0m\u001b[0;34m\u001b[0m\u001b[0;34m\u001b[0m\u001b[0m\n\u001b[0m",
      "\u001b[0;31mTypeError\u001b[0m: return arrays must be of ArrayType"
     ]
    }
   ],
   "source": [
    "sum(sps.k1(np.array(np.linspace(0,15,500)),0))"
   ]
  },
  {
   "cell_type": "code",
   "execution_count": 40,
   "metadata": {},
   "outputs": [
    {
     "data": {
      "text/plain": [
       "0.0"
      ]
     },
     "execution_count": 40,
     "metadata": {},
     "output_type": "execute_result"
    }
   ],
   "source": [
    "np.linspace(0,15,500)"
   ]
  },
  {
   "cell_type": "code",
   "execution_count": 57,
   "metadata": {},
   "outputs": [
    {
     "data": {
      "text/plain": [
       "0.011159676085853023"
      ]
     },
     "execution_count": 57,
     "metadata": {},
     "output_type": "execute_result"
    }
   ],
   "source": [
    "sps.kn(0,4)"
   ]
  },
  {
   "cell_type": "code",
   "execution_count": 63,
   "metadata": {},
   "outputs": [
    {
     "data": {
      "text/plain": [
       "11.30192195213633"
      ]
     },
     "execution_count": 63,
     "metadata": {},
     "output_type": "execute_result"
    }
   ],
   "source": [
    "sps.iv(0,4)"
   ]
  },
  {
   "cell_type": "code",
   "execution_count": null,
   "metadata": {},
   "outputs": [],
   "source": []
  }
 ],
 "metadata": {
  "interpreter": {
   "hash": "aee8b7b246df8f9039afb4144a1f6fd8d2ca17a180786b69acc140d282b71a49"
  },
  "kernelspec": {
   "display_name": "Python 3.9.10 64-bit",
   "language": "python",
   "name": "python3"
  },
  "language_info": {
   "codemirror_mode": {
    "name": "ipython",
    "version": 3
   },
   "file_extension": ".py",
   "mimetype": "text/x-python",
   "name": "python",
   "nbconvert_exporter": "python",
   "pygments_lexer": "ipython3",
   "version": "3.9.10"
  },
  "orig_nbformat": 4
 },
 "nbformat": 4,
 "nbformat_minor": 2
}
