{
 "cells": [
  {
   "cell_type": "code",
   "execution_count": 17,
   "metadata": {},
   "outputs": [],
   "source": [
    "import numpy as np\n",
    "import scipy.special as sps\n",
    "import math"
   ]
  },
  {
   "cell_type": "markdown",
   "metadata": {},
   "source": [
    "### Log-Likelihood function\n",
    "\n",
    "Given three arguments, outputs a function with 5 parameters. "
   ]
  },
  {
   "cell_type": "code",
   "execution_count": 69,
   "metadata": {},
   "outputs": [],
   "source": [
    "def Likelihoodww(data1,data2,cv):\n",
    "    def f(par):\n",
    "        a = par[0]\n",
    "        b = cv/sps.gamma(1+1/a)\n",
    "        mx = par[1]\n",
    "        my = par[2]\n",
    "        wx = par[3]\n",
    "        wy = par[4]\n",
    "        L = 0\n",
    "        for i in range(len(data1)):\n",
    "            rr = np.sqrt((data1[i]*np.cos(data2[i])-wx)**2 + (data1[i]*np.sin(data2[i])-wy)**2)\n",
    "            rx = (data1[i]*np.cos(data2[i])-wx)/rr\n",
    "            ry = (data1[i]*np.sin(data2[i])-wy)/rr\n",
    "            lp = (a - 2)*np.log(rr) - (rr/b)**a + mx*rx + my*ry + np.log(a) - np.lob(b) + (1 - a) * np.log(b) - np.log(sps.iv(0,np.sqrt(mx**2 + my**2)))\n",
    "            L = L + lp\n",
    "        return L"
   ]
  },
  {
   "cell_type": "markdown",
   "metadata": {},
   "source": [
    "### Standard deviation and mean of the Weibull distribution"
   ]
  },
  {
   "cell_type": "code",
   "execution_count": 70,
   "metadata": {},
   "outputs": [],
   "source": [
    "def Weibull_sd(a,b):\n",
    "    return b*np.sqrt(sps.gamma(1 + 2/a) - sps.gamma(1 + 1/a) * sps.gamma(1 + 1/a))\n",
    "\n",
    "def Weibull_mean(a,b):\n",
    "    return b * sps.gamma(1 + 1/a)"
   ]
  },
  {
   "cell_type": "markdown",
   "metadata": {},
   "source": [
    "### Standard deviation of the von-Mises distribution (approximated to Gaussian)"
   ]
  },
  {
   "cell_type": "code",
   "execution_count": 71,
   "metadata": {},
   "outputs": [],
   "source": [
    "def Von_Mises_sd(kappa):\n",
    "    return 1/np.sqrt(kappa)"
   ]
  },
  {
   "cell_type": "markdown",
   "metadata": {},
   "source": [
    "## Algorithm process\n",
    "\n",
    "Currently the algorithm works on data subsampled to reflect the sampling rate of the intial study, i.e. one fix per minute. Initial data processing essentially subsample the data to fit this sample rate.\n",
    "\n",
    "Following initial data 'cleaning', the next steps are all about finding periods of data with sufficient samples for the process to run. 80% of the expected number of samples for the time window (51 minutes), extracted from the sampling rate, are required (in this case, 40 samples)."
   ]
  },
  {
   "cell_type": "code",
   "execution_count": 67,
   "metadata": {},
   "outputs": [
    {
     "data": {
      "text/plain": [
       "2.0"
      ]
     },
     "execution_count": 67,
     "metadata": {},
     "output_type": "execute_result"
    }
   ],
   "source": [
    "for center in startpoint:endpoint:\n",
    "    windwidthsec = (windwidth/2) * 60 * 15\n",
    "\n",
    "    inter = 0\n",
    "\n",
    "    for qf in range(len(dt) - center):\n",
    "        inter = inter + dt[center+qf]\n",
    "        if inter > windwidthsec:\n",
    "            qf = qf\n",
    "            break\n",
    "    \n",
    "    inter = 0\n",
    "    for qb in 0:center-1:\n",
    "        inter = inter + dt[center - qb]\n",
    "        if inter > windwidthsec:\n",
    "            qb = qb\n",
    "            break\n",
    "\n",
    "    end = center + qf - 1\n",
    "    st = center - qb\n",
    "\n",
    "    answ = None\n",
    "    r = None\n",
    "    d = None\n",
    "    index = None\n",
    "\n",
    "    for k in st:end:\n",
    "        if rrow[k] > cutv && dt[k] < cutt && drow[k] != 100:\n",
    "            r = np.append(r,rrow[k])\n",
    "            d = np.append(d,drow[k])\n",
    "            index = append(index,k)\n",
    "    \n",
    "    # Step two\n",
    "    if len(r) >= cutlength:\n",
    "        max_like = np.nan\n",
    "        hdtry = 3\n",
    "        for id_hd in -hdtry:hdtry:\n",
    "            rr = None\n",
    "            rr = None\n",
    "            iindex = None\n",
    "\n",
    "            for k in range(len(r)):\n",
    "                if r[k] > cutv:\n",
    "                    rr = np.append(rr,r[k])\n",
    "                    dd = np.append(dd,d[k])\n",
    "                    iindex = np.append(iindex,index[k])\n",
    "            \n",
    "            inithd_first = id_hd/hdtry*pi/2 # initial heading\n",
    "            inita = 0 # initial angle\n",
    "            while inita < 5:\n",
    "                inita = abs(np.random.normal(12.5,np.sqrt(5)))\n",
    "            \n",
    "            meangd = math.atan2(np.mean(np.sin(d)),np.mean(np.cos(d)))\n",
    "            inithd = meangd + inithd_first\n",
    "            initkappa = # estimate concentration parameter for Von Mises distribution\n",
    "            initmux = initkappa * np.cos(inithd)\n",
    "            initmuy = initkappa * np.sin(inithd)\n",
    "            initwx = np.mean(r) * np.cos(meangd) - constv * np.cos(inithd)\n",
    "            initwy = np.mean(r) * np.sin(meangd) - constv * np.sin(inithd)\n",
    "\n",
    "            answ = sp.optim()"
   ]
  },
  {
   "cell_type": "code",
   "execution_count": 20,
   "metadata": {},
   "outputs": [
    {
     "data": {
      "text/plain": [
       "1.4288992721907328"
      ]
     },
     "execution_count": 20,
     "metadata": {},
     "output_type": "execute_result"
    }
   ],
   "source": [
    "math.atan2(np.pi/2,np.pi/14)"
   ]
  },
  {
   "cell_type": "code",
   "execution_count": 19,
   "metadata": {},
   "outputs": [
    {
     "data": {
      "text/plain": [
       "3.141592653589793"
      ]
     },
     "execution_count": 19,
     "metadata": {},
     "output_type": "execute_result"
    }
   ],
   "source": [
    "r = sum(x)\n",
    "rbar = "
   ]
  },
  {
   "cell_type": "code",
   "execution_count": null,
   "metadata": {},
   "outputs": [],
   "source": []
  }
 ],
 "metadata": {
  "interpreter": {
   "hash": "aee8b7b246df8f9039afb4144a1f6fd8d2ca17a180786b69acc140d282b71a49"
  },
  "kernelspec": {
   "display_name": "Python 3.9.10 64-bit",
   "language": "python",
   "name": "python3"
  },
  "language_info": {
   "codemirror_mode": {
    "name": "ipython",
    "version": 3
   },
   "file_extension": ".py",
   "mimetype": "text/x-python",
   "name": "python",
   "nbconvert_exporter": "python",
   "pygments_lexer": "ipython3",
   "version": "3.9.10"
  },
  "orig_nbformat": 4
 },
 "nbformat": 4,
 "nbformat_minor": 2
}
