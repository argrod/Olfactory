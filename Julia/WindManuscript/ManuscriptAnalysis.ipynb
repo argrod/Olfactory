{
 "cells": [
  {
   "cell_type": "markdown",
   "metadata": {},
   "source": [
    "# PNAS paper submission analysis\n",
    "\n",
    "Analysing the wind characteristics of streaked shearwaters as they approach foraging points allows us to examine what conditions the birds travel in throughout foraging trips. \n",
    "\n",
    "## Previous study\n",
    "\n",
    "In the most similar previous study ([Nevitt et al., 2008](https://www.pnas.org/content/105/12/4576)) investigating similar phenomena, the tracks of albatross approaching foraging points were examined and classified by their characteristics (in 4 groups: Direct, Turn, Zigzag, and Circle):\n",
    "\n",
    "<p align=\"center\">\n",
    "   <img src=https://www.pnas.org/cms/10.1073/pnas.0709047105/asset/eb810a4f-38f4-4a23-beee-eb585774c043/assets/graphic/zpq0080896790001.jpeg alt=\"Albatross tracks approaching foraging\" width=\"400\">\n",
    "</p>\n",
    "\n",
    "And the histograms of relative wind bearings were examined for those categories:\n",
    "\n",
    " <p align=\"center\">\n",
    "    <img src=https://www.pnas.org/cms/10.1073/pnas.0709047105/asset/7d4e5b13-0f76-4fc1-b230-f77569c6a300/assets/graphic/zpq0080896790002.jpeg alt=\"Relative wind histograms\" width=\"400\">\n",
    " </p>\n",
    "<!-- \n",
    "<p align=\"center>\n",
    "   <img src= alt=\"Relative wind histograms\">\n",
    "</p> -->\n",
    "\n",
    "This study used recordings of wandering albatross with GPS and stomach temperature transmitters. Foraging points were estimates as periods with rapid drops in stomach temperature, and surface landings taken from times when birds moved at under 2.8 m/s. Wind directions and speeds from all touchdown points were estimated using QuikSCAT daily level 3 gridded ocean wind vectors. This data comes from the SeaWinds scatterometer and records wind vector fields twice daily. Wind values cannot be produced for locations within 30km of land/ice. Backscatter recorded by the satellite is then processed through a Ku-band geophysical model function which derives surface wind speeds and direction. Rain contamination can be an issue due to difficulty in separating the backscatter effect of wind vs rain. The level value refers to the processing level of the data, starting at 0 (raw) through to 3 or 4."
   ]
  },
  {
   "cell_type": "code",
   "execution_count": 7,
   "metadata": {},
   "outputs": [],
   "source": [
    "using DataFrames, CSV, RCall, Plots, Geodesy, Dates, Distances, Statistics, Glob"
   ]
  },
  {
   "cell_type": "code",
   "execution_count": 3,
   "metadata": {},
   "outputs": [
    {
     "data": {
      "text/html": [
       "<table class=\"data-frame\"><thead><tr><th></th></tr><tr><th></th></tr></thead><tbody><p>0 rows × 0 columns</p></tbody></table>"
      ],
      "text/latex": [
       "\\begin{tabular}{r|}\n",
       "\t& \\\\\n",
       "\t\\hline\n",
       "\t& \\\\\n",
       "\t\\hline\n",
       "\\end{tabular}\n"
      ],
      "text/plain": [
       "\u001b[1m0×0 DataFrame\u001b[0m"
      ]
     },
     "metadata": {},
     "output_type": "display_data"
    }
   ],
   "source": [
    "# read in the foraging estimates and GPS tracks\n",
    "if Sys.iswindows()\n",
    "    fileloc = \"E:/My Drive/PhD/Data/2018Shearwater/TxtDat/AxyTrek/BehaviourDetection/PredictedForage/\"\n",
    "else\n",
    "    fileloc = \"/Volumes/GoogleDrive/My Drive/PhD/Data/2018Shearwater/TxtDat/AxyTrek/BehaviourDetection/PredictedForage/\"\n",
    "end\n",
    "EFiles = glob(\"*ForageGPS.txt\", fileloc)\n",
    "EDat = DataFrame()\n",
    "# for b = EFiles\n",
    "#     append!(EDat, CSV.read(b, DataFrame), cols = :union)\n",
    "# end"
   ]
  },
  {
   "cell_type": "code",
   "execution_count": 25,
   "metadata": {},
   "outputs": [
    {
     "ename": "ErrorException",
     "evalue": "syntax: incomplete: invalid string syntax",
     "output_type": "error",
     "traceback": [
      "syntax: incomplete: invalid string syntax\n",
      "\n",
      "Stacktrace:\n",
      "  [1] top-level scope\n",
      "    @ g:\\Documents\\GitHub\\Olfactory\\Julia\\WindManuscript\\ManuscriptAnalysis.ipynb:2\n",
      "  [2] eval\n",
      "    @ .\\boot.jl:360 [inlined]\n",
      "  [3] include_string(mapexpr::typeof(REPL.softscope), mod::Module, code::String, filename::String)\n",
      "    @ Base .\\loading.jl:1116\n",
      "  [4] #invokelatest#2\n",
      "    @ .\\essentials.jl:708 [inlined]\n",
      "  [5] invokelatest\n",
      "    @ .\\essentials.jl:706 [inlined]\n",
      "  [6] (::VSCodeServer.var\"#160#161\"{VSCodeServer.NotebookRunCellArguments, String})()\n",
      "    @ VSCodeServer c:\\Users\\arang\\.vscode\\extensions\\julialang.language-julia-1.6.17\\scripts\\packages\\VSCodeServer\\src\\serve_notebook.jl:19\n",
      "  [7] withpath(f::VSCodeServer.var\"#160#161\"{VSCodeServer.NotebookRunCellArguments, String}, path::String)\n",
      "    @ VSCodeServer c:\\Users\\arang\\.vscode\\extensions\\julialang.language-julia-1.6.17\\scripts\\packages\\VSCodeServer\\src\\repl.jl:184\n",
      "  [8] notebook_runcell_request(conn::VSCodeServer.JSONRPC.JSONRPCEndpoint{Base.PipeEndpoint, Base.PipeEndpoint}, params::VSCodeServer.NotebookRunCellArguments)\n",
      "    @ VSCodeServer c:\\Users\\arang\\.vscode\\extensions\\julialang.language-julia-1.6.17\\scripts\\packages\\VSCodeServer\\src\\serve_notebook.jl:13\n",
      "  [9] dispatch_msg(x::VSCodeServer.JSONRPC.JSONRPCEndpoint{Base.PipeEndpoint, Base.PipeEndpoint}, dispatcher::VSCodeServer.JSONRPC.MsgDispatcher, msg::Dict{String, Any})\n",
      "    @ VSCodeServer.JSONRPC c:\\Users\\arang\\.vscode\\extensions\\julialang.language-julia-1.6.17\\scripts\\packages\\JSONRPC\\src\\typed.jl:67\n",
      " [10] serve_notebook(pipename::String, outputchannel_logger::Base.CoreLogging.SimpleLogger; crashreporting_pipename::String)\n",
      "    @ VSCodeServer c:\\Users\\arang\\.vscode\\extensions\\julialang.language-julia-1.6.17\\scripts\\packages\\VSCodeServer\\src\\serve_notebook.jl:136\n",
      " [11] top-level scope\n",
      "    @ c:\\Users\\arang\\.vscode\\extensions\\julialang.language-julia-1.6.17\\scripts\\notebook\\notebook.jl:32\n",
      " [12] include(mod::Module, _path::String)\n",
      "    @ Base .\\Base.jl:386\n",
      " [13] exec_options(opts::Base.JLOptions)\n",
      "    @ Base .\\client.jl:285\n",
      " [14] _start()\n",
      "    @ Base .\\client.jl:485"
     ]
    }
   ],
   "source": [
    "EFiles[3]\n",
    "match(r\"*PredictedForage/(d_))"
   ]
  },
  {
   "cell_type": "code",
   "execution_count": null,
   "metadata": {},
   "outputs": [],
   "source": [
    "\n",
    "\n",
    "# load in the wind calculations\n",
    "if Sys.iswindows()\n",
    "    estLoc = \"E:/My Drive/PhD/Data/2018Shearwater/WindEst/MinDat/\"\n",
    "else\n",
    "    estLoc = \"/Volumes/GoogleDrive/My Drive/PhD/Data/2018Shearwater/WindEst/MinDat/\"\n",
    "end\n",
    "# estLoc = \"/Volumes/GoogleDrive/My Drive/PhD/Data/WindEstTest/2018/\"\n",
    "cd(estLoc)\n",
    "EFiles = readdir(estLoc)\n",
    "EDat = []\n",
    "for b = 1:length(EFiles)\n",
    "    if b == 1\n",
    "        EDat = CSV.File(string(estLoc,EFiles[b]), header = false) |> DataFrame\n",
    "        EDat.ID = fill(\"18\"*EFiles[b][1:end-4],nrow(EDat))\n",
    "    else Add = CSV.File(string(estLoc,EFiles[b]), header = false) |> DataFrame\n",
    "        Add.ID = fill(\"18\"*EFiles[b][1:end-4],nrow(Add))\n",
    "        EDat = vcat(EDat, Add)\n",
    "    end\n",
    "end\n",
    "# repeat for 2019\n",
    "if Sys.iswindows()\n",
    "    estLoc = \"E:/My Drive/PhD/Data/2019Shearwater/WindEst/MinDat/\"\n",
    "else\n",
    "    estLoc = \"/Volumes/GoogleDrive/My Drive/PhD/Data/2019Shearwater/WindEst/MinDat/\"\n",
    "end\n",
    "# estLoc = \"/Volumes/GoogleDrive/My Drive/PhD/Data/WindEstTest/2018/\"\n",
    "cd(estLoc)\n",
    "EFiles = readdir(estLoc)\n",
    "EFiles = EFiles[contains.(EFiles,\".csv\")]\n",
    "EDat19 = []\n",
    "for b = 1:length(EFiles)\n",
    "    if b == 1\n",
    "        EDat19 = CSV.File(string(estLoc,EFiles[b]), header = false) |> DataFrame\n",
    "        EDat19.ID = fill(\"19\"*EFiles[b][1:end-4],nrow(EDat19))\n",
    "    else Add19 = CSV.File(string(estLoc,EFiles[b]), header = false) |> DataFrame\n",
    "        Add19.ID = fill(\"19\"*EFiles[b][1:end-4],nrow(Add19))\n",
    "        EDat19 = vcat(EDat19, Add19)\n",
    "    end\n",
    "end\n",
    "EDat = vcat(EDat,EDat19)"
   ]
  }
 ],
 "metadata": {
  "kernelspec": {
   "display_name": "Julia 1.6.2",
   "language": "julia",
   "name": "julia-1.6"
  },
  "language_info": {
   "file_extension": ".jl",
   "mimetype": "application/julia",
   "name": "julia",
   "version": "1.6.2"
  },
  "orig_nbformat": 4
 },
 "nbformat": 4,
 "nbformat_minor": 2
}
