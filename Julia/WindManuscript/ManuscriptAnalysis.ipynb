{
 "cells": [
  {
   "cell_type": "markdown",
   "metadata": {},
   "source": [
    "# PNAS paper submission analysis\n",
    "\n",
    "Analysing the wind characteristics of streaked shearwaters as they approach foraging points allows us to examine what conditions the birds travel in throughout foraging trips. \n",
    "\n",
    "## Previous study\n",
    "\n",
    "In the most similar previous study ([Nevitt et al., 2008](https://www.pnas.org/content/105/12/4576)) investigating similar phenomena, the tracks of albatross approaching foraging points were examined and classified by their characteristics (in 4 groups: Direct, Turn, Zigzag, and Circle):\n",
    "\n",
    "<p align=\"center\">\n",
    "   <img src=https://www.pnas.org/cms/10.1073/pnas.0709047105/asset/eb810a4f-38f4-4a23-beee-eb585774c043/assets/graphic/zpq0080896790001.jpeg alt=\"Albatross tracks approaching foraging\" width=\"400\">\n",
    "</p>\n",
    "\n",
    "And the histograms of relative wind bearings were examined for those categories:\n",
    "\n",
    " <p align=\"center\">\n",
    "    <img src=https://www.pnas.org/cms/10.1073/pnas.0709047105/asset/7d4e5b13-0f76-4fc1-b230-f77569c6a300/assets/graphic/zpq0080896790002.jpeg alt=\"Relative wind histograms\" width=\"400\">\n",
    " </p>\n",
    "<!-- \n",
    "<p align=\"center>\n",
    "   <img src= alt=\"Relative wind histograms\">\n",
    "</p> -->\n",
    "\n",
    "This study used recordings of wandering albatross with GPS and stomach temperature transmitters. Foraging points were estimates as periods with rapid drops in stomach temperature, and surface landings taken from times when birds moved at under 2.8 m/s. Wind directions and speeds from all touchdown points were estimated using QuikSCAT daily level 3 gridded ocean wind vectors. This data comes from the SeaWinds scatterometer and records wind vector fields twice daily. Wind values cannot be produced for locations within 30km of land/ice. Backscatter recorded by the satellite is then processed through a Ku-band geophysical model function which derives surface wind speeds and direction. Rain contamination can be an issue due to difficulty in separating the backscatter effect of wind vs rain. The level value refers to the processing level of the data, starting at 0 (raw) through to 3 or 4."
   ]
  },
  {
   "cell_type": "code",
   "execution_count": 1,
   "metadata": {},
   "outputs": [
    {
     "name": "stderr",
     "output_type": "stream",
     "text": [
      "┌ Warning: RCall.jl: During startup - Warning messages:\n",
      "│ 1: Setting LC_COLLATE failed, using \"C\" \n",
      "│ 2: Setting LC_TIME failed, using \"C\" \n",
      "│ 3: Setting LC_MESSAGES failed, using \"C\" \n",
      "│ 4: Setting LC_MONETARY failed, using \"C\" \n",
      "└ @ RCall /Users/aran/.julia/packages/RCall/6kphM/src/io.jl:172\n"
     ]
    }
   ],
   "source": [
    "using DataFrames, CSV, RCall, Plots, Geodesy, Dates, Distances, Statistics, Glob"
   ]
  },
  {
   "cell_type": "code",
   "execution_count": 2,
   "metadata": {},
   "outputs": [],
   "source": [
    "# FUNCTION FOR READING IN FORAGING AND WIND DATASETS\n",
    "function readDat(dataLocation, pattern, IDpattern, colnames, header, years, DateFormats)\n",
    "    files = glob(pattern, dataLocation)\n",
    "    yrIDs = unique(getindex.(match.(r\"(\\d+)Shearwater.*\",files),1) .* \"_\" .* getindex.(match.(IDpattern,files),1))\n",
    "    ret = [DataFrame() for _ in 1:length(yrIDs)]\n",
    "    for tg in 1:length(ret)\n",
    "        tgFiles = files[occursin.(yrIDs[tg][1:4],files) .& occursin.(\"/\"*yrIDs[tg][6:end],files)]\n",
    "        for file in tgFiles\n",
    "            append!(ret[tg], hcat(CSV.read(file, DataFrame, header = header), repeat([yrIDs[tg]], nrow(CSV.read(file, DataFrame, header = header)))), cols = :union)\n",
    "        end\n",
    "        rename!(ret[tg], colnames)\n",
    "        # assign datetime\n",
    "        ret[tg].DT = DateTime.(ret[tg].DT, DateFormats[occursin.(yrIDs[tg][1:4],years)])\n",
    "    end\n",
    "    return ret\n",
    "end\n",
    "# file locations for foraging and wind estimates\n",
    "if Sys.iswindows()\n",
    "    dataloc = \"E:/My Drive/PhD/Data/\"\n",
    "else\n",
    "    dataloc = \"/Volumes/GoogleDrive-112399531131798335686/My Drive/PhD/Data/\"\n",
    "end\n",
    "# bring in FORAGING AND GPS DATA\n",
    "fDat = readDat(dataloc,\"*/*/*/*/PredictedForage/*ForageGPS.txt\",r\".*PredictedForage/(.*)-20.*\",[:DT,:lat,:lon,:forage,:yrID],1,[\"2018\",\"2019\"],[dateformat\"d/m/y H:M:S.s\",dateformat\"d-u-y H:M:S.s\"])\n",
    "\n",
    "# bring in WIND ESTIMATES\n",
    "wDat = readDat(dataloc, \"*/*/MinDat/*.csv\", r\".*MinDat/(.*).csv\", [:DT,:lat,:lon,:head,:X,:Y,:yrID], 0, [\"2018\",\"2019\"],[dateformat\"y-m-d H:M:S\",dateformat\"y-m-d H:M:S\"]);"
   ]
  },
  {
   "cell_type": "code",
   "execution_count": 176,
   "metadata": {},
   "outputs": [],
   "source": [
    "# add distance (m) and speed (kph) values\n",
    "function dist(lat1,lon1,lat2,lon2)\n",
    "    Ll1 = LLA(lat1,lon1)\n",
    "    Ll2 = LLA(lat2,lon2)\n",
    "    utmz = UTMZfromLLA(wgs84)\n",
    "    dx = diff(DataFrame(map(utmz,[Ll1,Ll2])).x)[1]\n",
    "    dy = diff(DataFrame(map(utmz,[Ll1,Ll2])).y)[1]\n",
    "    return sqrt(dx^2 + dy^2)\n",
    "end\n",
    "function speed(dt,lat,lon)\n",
    "    tdiff = Dates.value.(Second.(diff(dt)))\n",
    "    spTrav = (dist.(lat[1:(end-1)],lon[1:(end-1)],lat[2:end],lon[2:end])./tdiff).*3.6\n",
    "    return spTrav\n",
    "end\n",
    "\n",
    "# find the nearest time (index)\n",
    "function findNearest(dt, time)\n",
    "    argmin(abs.(dt .- time))\n",
    "end\n",
    "# calculate linearity\n",
    "function linearity(dt,lat,lon,distance,twindow)\n",
    "    out = repeat([NaN], length(dt))\n",
    "    for b = 1:findNearest(dt,(dt[end] - Minute(twindow)))\n",
    "        nextPoint = b + findNearest(dt, dt[b] + (Minute(twindow))) - 1\n",
    "        if abs(dt[nextPoint] - (dt[b] + Minute(twindow))) < Minute(5)\n",
    "            out[b] = dist(lat[b],lon[b],lat[nextPoint],lon[nextPoint])/sum(distance[b:nextPoint])\n",
    "        else\n",
    "            out[b] = NaN\n",
    "        end\n",
    "    end\n",
    "    return out\n",
    "end\n",
    "\n",
    "for x in fDat\n",
    "    x.distTrav = [dist.(x.lat[1:(end-1)],x.lon[1:(end-1)],x.lat[2:end],x.lon[2:end]);NaN]\n",
    "    x.spTrav = [speed(x.DT, x.lat, x.lon);NaN]\n",
    "    x.linearity = linearity(x.DT,x.lat,x.lon,x.distTrav,51)\n",
    "end"
   ]
  },
  {
   "cell_type": "code",
   "execution_count": 173,
   "metadata": {},
   "outputs": [
    {
     "data": {
      "text/plain": [
       "9812.85409146625"
      ]
     },
     "metadata": {},
     "output_type": "display_data"
    }
   ],
   "source": [
    "# assign data to the wind data\n",
    "df = vcat(fDat...)\n",
    "for wf in wDat\n",
    "    for b = 1:nrow(wf.DT)\n",
    "        if any(df.DT > wf.DT[b] & df.forage == 1 & df.yrID == wf.yrID\n",
    "            nxtFor = \n",
    "        else\n",
    "            break\n",
    "        end\n"
   ]
  },
  {
   "cell_type": "code",
   "execution_count": 186,
   "metadata": {},
   "outputs": [
    {
     "data": {
      "text/html": [
       "<div class=\"data-frame\"><p>1,592,458 rows × 8 columns</p><table class=\"data-frame\"><thead><tr><th></th><th>DT</th><th>lat</th><th>lon</th><th>forage</th><th>yrID</th><th>distTrav</th><th>spTrav</th><th>linearity</th></tr><tr><th></th><th title=\"DateTime\">DateTime</th><th title=\"Float64\">Float64</th><th title=\"Float64\">Float64</th><th title=\"Int64\">Int64</th><th title=\"String\">String</th><th title=\"Float64\">Float64</th><th title=\"Float64\">Float64</th><th title=\"Float64\">Float64</th></tr></thead><tbody><tr><th>1</th><td>2019-08-23T04:18:02</td><td>39.3895</td><td>142.02</td><td>0</td><td>2019_1_S1</td><td>95.1508</td><td>31.1403</td><td>0.386628</td></tr><tr><th>2</th><td>2019-08-23T04:18:13</td><td>39.3894</td><td>142.021</td><td>0</td><td>2019_1_S1</td><td>1204.81</td><td>13.025</td><td>0.385313</td></tr><tr><th>3</th><td>2019-08-23T04:23:46</td><td>39.3855</td><td>142.035</td><td>0</td><td>2019_1_S1</td><td>13.5378</td><td>16.2454</td><td>0.383849</td></tr><tr><th>4</th><td>2019-08-23T04:23:49</td><td>39.3854</td><td>142.035</td><td>0</td><td>2019_1_S1</td><td>45.8906</td><td>27.5344</td><td>0.386047</td></tr><tr><th>5</th><td>2019-08-23T04:23:55</td><td>39.385</td><td>142.034</td><td>0</td><td>2019_1_S1</td><td>57.4482</td><td>51.7034</td><td>0.38939</td></tr><tr><th>6</th><td>2019-08-23T04:23:59</td><td>39.3848</td><td>142.035</td><td>0</td><td>2019_1_S1</td><td>64.8943</td><td>46.7239</td><td>0.387473</td></tr><tr><th>7</th><td>2019-08-23T04:24:04</td><td>39.3849</td><td>142.036</td><td>0</td><td>2019_1_S1</td><td>34.1442</td><td>24.5838</td><td>0.387325</td></tr><tr><th>8</th><td>2019-08-23T04:24:09</td><td>39.3852</td><td>142.036</td><td>0</td><td>2019_1_S1</td><td>100.876</td><td>60.5253</td><td>0.387841</td></tr><tr><th>9</th><td>2019-08-23T04:24:15</td><td>39.3845</td><td>142.037</td><td>0</td><td>2019_1_S1</td><td>26.5088</td><td>23.858</td><td>0.390667</td></tr><tr><th>10</th><td>2019-08-23T04:24:19</td><td>39.3845</td><td>142.037</td><td>0</td><td>2019_1_S1</td><td>41.3422</td><td>24.8053</td><td>0.392704</td></tr><tr><th>11</th><td>2019-08-23T04:24:25</td><td>39.3845</td><td>142.037</td><td>0</td><td>2019_1_S1</td><td>104.704</td><td>94.2337</td><td>0.391897</td></tr><tr><th>12</th><td>2019-08-23T04:24:29</td><td>39.3838</td><td>142.038</td><td>0</td><td>2019_1_S1</td><td>70.0791</td><td>42.0474</td><td>0.396034</td></tr><tr><th>13</th><td>2019-08-23T04:24:35</td><td>39.3844</td><td>142.038</td><td>0</td><td>2019_1_S1</td><td>13.4297</td><td>12.0867</td><td>0.396366</td></tr><tr><th>14</th><td>2019-08-23T04:24:39</td><td>39.3845</td><td>142.038</td><td>0</td><td>2019_1_S1</td><td>33.7172</td><td>24.2764</td><td>0.396991</td></tr><tr><th>15</th><td>2019-08-23T04:24:44</td><td>39.3843</td><td>142.038</td><td>0</td><td>2019_1_S1</td><td>17.866</td><td>12.8635</td><td>0.397829</td></tr><tr><th>16</th><td>2019-08-23T04:24:49</td><td>39.3843</td><td>142.038</td><td>0</td><td>2019_1_S1</td><td>10.8872</td><td>5.59912</td><td>0.397047</td></tr><tr><th>17</th><td>2019-08-23T04:24:56</td><td>39.3844</td><td>142.038</td><td>0</td><td>2019_1_S1</td><td>13.3465</td><td>16.0158</td><td>0.397098</td></tr><tr><th>18</th><td>2019-08-23T04:24:59</td><td>39.3843</td><td>142.038</td><td>1</td><td>2019_1_S1</td><td>16.5658</td><td>11.9274</td><td>0.397996</td></tr><tr><th>19</th><td>2019-08-23T04:25:04</td><td>39.3842</td><td>142.038</td><td>1</td><td>2019_1_S1</td><td>23.1373</td><td>16.6589</td><td>0.396744</td></tr><tr><th>20</th><td>2019-08-23T04:25:09</td><td>39.3843</td><td>142.038</td><td>1</td><td>2019_1_S1</td><td>21.1787</td><td>10.8919</td><td>0.396418</td></tr><tr><th>21</th><td>2019-08-23T04:25:16</td><td>39.3844</td><td>142.038</td><td>1</td><td>2019_1_S1</td><td>18.018</td><td>21.6215</td><td>0.396253</td></tr><tr><th>22</th><td>2019-08-23T04:25:19</td><td>39.3843</td><td>142.038</td><td>1</td><td>2019_1_S1</td><td>10.8778</td><td>5.5943</td><td>0.399767</td></tr><tr><th>23</th><td>2019-08-23T04:25:26</td><td>39.3844</td><td>142.038</td><td>1</td><td>2019_1_S1</td><td>36.6366</td><td>43.9639</td><td>0.397124</td></tr><tr><th>24</th><td>2019-08-23T04:25:29</td><td>39.3847</td><td>142.038</td><td>1</td><td>2019_1_S1</td><td>38.8558</td><td>23.3135</td><td>0.400686</td></tr><tr><th>&vellip;</th><td>&vellip;</td><td>&vellip;</td><td>&vellip;</td><td>&vellip;</td><td>&vellip;</td><td>&vellip;</td><td>&vellip;</td><td>&vellip;</td></tr></tbody></table></div>"
      ],
      "text/latex": [
       "\\begin{tabular}{r|cccccccc}\n",
       "\t& DT & lat & lon & forage & yrID & distTrav & spTrav & linearity\\\\\n",
       "\t\\hline\n",
       "\t& DateTime & Float64 & Float64 & Int64 & String & Float64 & Float64 & Float64\\\\\n",
       "\t\\hline\n",
       "\t1 & 2019-08-23T04:18:02 & 39.3895 & 142.02 & 0 & 2019\\_1\\_S1 & 95.1508 & 31.1403 & 0.386628 \\\\\n",
       "\t2 & 2019-08-23T04:18:13 & 39.3894 & 142.021 & 0 & 2019\\_1\\_S1 & 1204.81 & 13.025 & 0.385313 \\\\\n",
       "\t3 & 2019-08-23T04:23:46 & 39.3855 & 142.035 & 0 & 2019\\_1\\_S1 & 13.5378 & 16.2454 & 0.383849 \\\\\n",
       "\t4 & 2019-08-23T04:23:49 & 39.3854 & 142.035 & 0 & 2019\\_1\\_S1 & 45.8906 & 27.5344 & 0.386047 \\\\\n",
       "\t5 & 2019-08-23T04:23:55 & 39.385 & 142.034 & 0 & 2019\\_1\\_S1 & 57.4482 & 51.7034 & 0.38939 \\\\\n",
       "\t6 & 2019-08-23T04:23:59 & 39.3848 & 142.035 & 0 & 2019\\_1\\_S1 & 64.8943 & 46.7239 & 0.387473 \\\\\n",
       "\t7 & 2019-08-23T04:24:04 & 39.3849 & 142.036 & 0 & 2019\\_1\\_S1 & 34.1442 & 24.5838 & 0.387325 \\\\\n",
       "\t8 & 2019-08-23T04:24:09 & 39.3852 & 142.036 & 0 & 2019\\_1\\_S1 & 100.876 & 60.5253 & 0.387841 \\\\\n",
       "\t9 & 2019-08-23T04:24:15 & 39.3845 & 142.037 & 0 & 2019\\_1\\_S1 & 26.5088 & 23.858 & 0.390667 \\\\\n",
       "\t10 & 2019-08-23T04:24:19 & 39.3845 & 142.037 & 0 & 2019\\_1\\_S1 & 41.3422 & 24.8053 & 0.392704 \\\\\n",
       "\t11 & 2019-08-23T04:24:25 & 39.3845 & 142.037 & 0 & 2019\\_1\\_S1 & 104.704 & 94.2337 & 0.391897 \\\\\n",
       "\t12 & 2019-08-23T04:24:29 & 39.3838 & 142.038 & 0 & 2019\\_1\\_S1 & 70.0791 & 42.0474 & 0.396034 \\\\\n",
       "\t13 & 2019-08-23T04:24:35 & 39.3844 & 142.038 & 0 & 2019\\_1\\_S1 & 13.4297 & 12.0867 & 0.396366 \\\\\n",
       "\t14 & 2019-08-23T04:24:39 & 39.3845 & 142.038 & 0 & 2019\\_1\\_S1 & 33.7172 & 24.2764 & 0.396991 \\\\\n",
       "\t15 & 2019-08-23T04:24:44 & 39.3843 & 142.038 & 0 & 2019\\_1\\_S1 & 17.866 & 12.8635 & 0.397829 \\\\\n",
       "\t16 & 2019-08-23T04:24:49 & 39.3843 & 142.038 & 0 & 2019\\_1\\_S1 & 10.8872 & 5.59912 & 0.397047 \\\\\n",
       "\t17 & 2019-08-23T04:24:56 & 39.3844 & 142.038 & 0 & 2019\\_1\\_S1 & 13.3465 & 16.0158 & 0.397098 \\\\\n",
       "\t18 & 2019-08-23T04:24:59 & 39.3843 & 142.038 & 1 & 2019\\_1\\_S1 & 16.5658 & 11.9274 & 0.397996 \\\\\n",
       "\t19 & 2019-08-23T04:25:04 & 39.3842 & 142.038 & 1 & 2019\\_1\\_S1 & 23.1373 & 16.6589 & 0.396744 \\\\\n",
       "\t20 & 2019-08-23T04:25:09 & 39.3843 & 142.038 & 1 & 2019\\_1\\_S1 & 21.1787 & 10.8919 & 0.396418 \\\\\n",
       "\t21 & 2019-08-23T04:25:16 & 39.3844 & 142.038 & 1 & 2019\\_1\\_S1 & 18.018 & 21.6215 & 0.396253 \\\\\n",
       "\t22 & 2019-08-23T04:25:19 & 39.3843 & 142.038 & 1 & 2019\\_1\\_S1 & 10.8778 & 5.5943 & 0.399767 \\\\\n",
       "\t23 & 2019-08-23T04:25:26 & 39.3844 & 142.038 & 1 & 2019\\_1\\_S1 & 36.6366 & 43.9639 & 0.397124 \\\\\n",
       "\t24 & 2019-08-23T04:25:29 & 39.3847 & 142.038 & 1 & 2019\\_1\\_S1 & 38.8558 & 23.3135 & 0.400686 \\\\\n",
       "\t$\\dots$ & $\\dots$ & $\\dots$ & $\\dots$ & $\\dots$ & $\\dots$ & $\\dots$ & $\\dots$ & $\\dots$ \\\\\n",
       "\\end{tabular}\n"
      ],
      "text/plain": [
       "\u001b[1m1592458×8 DataFrame\u001b[0m\n",
       "\u001b[1m     Row \u001b[0m│\u001b[1m DT                  \u001b[0m\u001b[1m lat     \u001b[0m\u001b[1m lon     \u001b[0m\u001b[1m forage \u001b[0m\u001b[1m yrID      \u001b[0m\u001b[1m distTrav \u001b[0m ⋯\n",
       "\u001b[1m         \u001b[0m│\u001b[90m DateTime            \u001b[0m\u001b[90m Float64 \u001b[0m\u001b[90m Float64 \u001b[0m\u001b[90m Int64  \u001b[0m\u001b[90m String    \u001b[0m\u001b[90m Float64  \u001b[0m ⋯\n",
       "─────────┼──────────────────────────────────────────────────────────────────────\n",
       "       1 │ 2019-08-23T04:18:02  39.3895  142.02        0  2019_1_S1    95.1508 ⋯\n",
       "       2 │ 2019-08-23T04:18:13  39.3894  142.021       0  2019_1_S1  1204.81\n",
       "       3 │ 2019-08-23T04:23:46  39.3855  142.035       0  2019_1_S1    13.5378\n",
       "       4 │ 2019-08-23T04:23:49  39.3854  142.035       0  2019_1_S1    45.8906\n",
       "       5 │ 2019-08-23T04:23:55  39.385   142.034       0  2019_1_S1    57.4482 ⋯\n",
       "       6 │ 2019-08-23T04:23:59  39.3848  142.035       0  2019_1_S1    64.8943\n",
       "       7 │ 2019-08-23T04:24:04  39.3849  142.036       0  2019_1_S1    34.1442\n",
       "       8 │ 2019-08-23T04:24:09  39.3852  142.036       0  2019_1_S1   100.876\n",
       "    ⋮    │          ⋮              ⋮        ⋮       ⋮         ⋮          ⋮     ⋱\n",
       " 1592452 │ 2018-09-08T19:55:41  39.4163  142.045       0  2018_9_S1   449.638  ⋯\n",
       " 1592453 │ 2018-09-08T19:56:10  39.4134  142.041       0  2018_9_S1   475.517\n",
       " 1592454 │ 2018-09-08T19:56:40  39.4108  142.037       0  2018_9_S1   480.319\n",
       " 1592455 │ 2018-09-08T19:57:10  39.4087  142.032       0  2018_9_S1   442.083\n",
       " 1592456 │ 2018-09-08T19:57:39  39.4075  142.027       0  2018_9_S1   442.085  ⋯\n",
       " 1592457 │ 2018-09-08T19:58:09  39.4065  142.022       0  2018_9_S1   426.724\n",
       " 1592458 │ 2018-09-08T19:58:39  39.4051  142.017       0  2018_9_S1   NaN\n",
       "\u001b[36m                                              2 columns and 1592443 rows omitted\u001b[0m"
      ]
     },
     "metadata": {},
     "output_type": "display_data"
    }
   ],
   "source": []
  },
  {
   "cell_type": "code",
   "execution_count": 99,
   "metadata": {},
   "outputs": [
    {
     "ename": "UndefVarError",
     "evalue": "UndefVarError: array not defined",
     "output_type": "error",
     "traceback": [
      "UndefVarError: array not defined\n",
      "\n",
      "Stacktrace:\n",
      "  [1] top-level scope\n",
      "    @ ~/Documents/GitHub/Olfactory/Julia/WindManuscript/ManuscriptAnalysis.ipynb:6\n",
      "  [2] eval\n",
      "    @ ./boot.jl:373 [inlined]\n",
      "  [3] include_string(mapexpr::typeof(REPL.softscope), mod::Module, code::String, filename::String)\n",
      "    @ Base ./loading.jl:1196\n",
      "  [4] #invokelatest#2\n",
      "    @ ./essentials.jl:716 [inlined]\n",
      "  [5] invokelatest\n",
      "    @ ./essentials.jl:714 [inlined]\n",
      "  [6] (::VSCodeServer.var\"#164#165\"{VSCodeServer.NotebookRunCellArguments, String})()\n",
      "    @ VSCodeServer ~/.vscode/extensions/julialang.language-julia-1.6.17/scripts/packages/VSCodeServer/src/serve_notebook.jl:19\n",
      "  [7] withpath(f::VSCodeServer.var\"#164#165\"{VSCodeServer.NotebookRunCellArguments, String}, path::String)\n",
      "    @ VSCodeServer ~/.vscode/extensions/julialang.language-julia-1.6.17/scripts/packages/VSCodeServer/src/repl.jl:184\n",
      "  [8] notebook_runcell_request(conn::VSCodeServer.JSONRPC.JSONRPCEndpoint{Base.PipeEndpoint, Base.PipeEndpoint}, params::VSCodeServer.NotebookRunCellArguments)\n",
      "    @ VSCodeServer ~/.vscode/extensions/julialang.language-julia-1.6.17/scripts/packages/VSCodeServer/src/serve_notebook.jl:13\n",
      "  [9] dispatch_msg(x::VSCodeServer.JSONRPC.JSONRPCEndpoint{Base.PipeEndpoint, Base.PipeEndpoint}, dispatcher::VSCodeServer.JSONRPC.MsgDispatcher, msg::Dict{String, Any})\n",
      "    @ VSCodeServer.JSONRPC ~/.vscode/extensions/julialang.language-julia-1.6.17/scripts/packages/JSONRPC/src/typed.jl:67\n",
      " [10] serve_notebook(pipename::String, outputchannel_logger::Base.CoreLogging.SimpleLogger; crashreporting_pipename::String)\n",
      "    @ VSCodeServer ~/.vscode/extensions/julialang.language-julia-1.6.17/scripts/packages/VSCodeServer/src/serve_notebook.jl:136\n",
      " [11] top-level scope\n",
      "    @ ~/.vscode/extensions/julialang.language-julia-1.6.17/scripts/notebook/notebook.jl:32\n",
      " [12] include(mod::Module, _path::String)\n",
      "    @ Base ./Base.jl:418\n",
      " [13] exec_options(opts::Base.JLOptions)\n",
      "    @ Base ./client.jl:292\n",
      " [14] _start()\n",
      "    @ Base ./client.jl:495"
     ]
    }
   ],
   "source": [
    "# out=repeat([NaN],length(fDat[1].DT))\n",
    "b = 30\n",
    "nextPoint = b + findNearest(fDat[1].DT, (fDat[1].DT[b] + Minute(51))) - 1\n",
    "abs(fDat[1].DT[nextPoint] - (fDat[1].DT[b] + Minute(51))) < Minute(5)\n",
    "# out[b] = \n",
    "dist([fDat[1].lat[b],fDat[1].lat[nextPoint]],[fDat[1].lon[1],fDat[1].lon[nextPoint]])/sum(fDat[1].distTrav[b:nextPoint])\n",
    "# sum(fDat[1].distTrav[b:nextPoint])\n",
    "# dist([fDat[1].lat[b],fDat[1].lat[nextPoint]],[fDat[1].lon[1],fDat[1].lon[nextPoint]])/sum(fDat[1].distTrav[b:nextPoint])\n"
   ]
  },
  {
   "cell_type": "code",
   "execution_count": 182,
   "metadata": {},
   "outputs": [
    {
     "data": {
      "text/plain": [
       "151-element Vector{String}:\n",
       " \"2019_1_S1\"\n",
       " \"2019_1_S1\"\n",
       " \"2019_1_S1\"\n",
       " \"2019_1_S1\"\n",
       " \"2019_1_S1\"\n",
       " \"2019_1_S1\"\n",
       " \"2019_1_S1\"\n",
       " \"2019_1_S1\"\n",
       " \"2019_1_S1\"\n",
       " \"2019_1_S1\"\n",
       " ⋮\n",
       " \"2019_1_S1\"\n",
       " \"2019_1_S1\"\n",
       " \"2019_1_S1\"\n",
       " \"2019_1_S1\"\n",
       " \"2019_1_S1\"\n",
       " \"2019_1_S1\"\n",
       " \"2019_1_S1\"\n",
       " \"2019_1_S1\"\n",
       " \"2019_1_S1\""
      ]
     },
     "metadata": {},
     "output_type": "display_data"
    }
   ],
   "source": [
    "wDat[1].yrID"
   ]
  }
 ],
 "metadata": {
  "kernelspec": {
   "display_name": "Julia 1.7.1",
   "language": "julia",
   "name": "julia-1.7"
  },
  "language_info": {
   "file_extension": ".jl",
   "mimetype": "application/julia",
   "name": "julia",
   "version": "1.7.1"
  },
  "orig_nbformat": 4
 },
 "nbformat": 4,
 "nbformat_minor": 2
}
