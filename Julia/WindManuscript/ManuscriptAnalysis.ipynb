{
 "cells": [
  {
   "cell_type": "markdown",
   "metadata": {},
   "source": [
    "# PNAS paper submission analysis\n",
    "\n",
    "Analysing the wind characteristics of streaked shearwaters as they approach foraging points allows us to examine what conditions the birds travel in throughout foraging trips. \n",
    "\n",
    "## Previous study\n",
    "\n",
    "In the most similar previous study ([Nevitt et al., 2008](https://www.pnas.org/content/105/12/4576)) investigating similar phenomena, the tracks of albatross approaching foraging points were examined and classified by their characteristics (in 4 groups: Direct, Turn, Zigzag, and Circle):\n",
    "\n",
    "<p align=\"center\">\n",
    "   <img src=https://www.pnas.org/cms/10.1073/pnas.0709047105/asset/eb810a4f-38f4-4a23-beee-eb585774c043/assets/graphic/zpq0080896790001.jpeg alt=\"Albatross tracks approaching foraging\" width=\"400\">\n",
    "</p>\n",
    "\n",
    "And the histograms of relative wind bearings were examined for those categories:\n",
    "\n",
    " <p align=\"center\">\n",
    "    <img src=https://www.pnas.org/cms/10.1073/pnas.0709047105/asset/7d4e5b13-0f76-4fc1-b230-f77569c6a300/assets/graphic/zpq0080896790002.jpeg alt=\"Relative wind histograms\" width=\"400\">\n",
    " </p>\n",
    "<!-- \n",
    "<p align=\"center>\n",
    "   <img src= alt=\"Relative wind histograms\">\n",
    "</p> -->\n",
    "\n",
    "This study used recordings of wandering albatross with GPS and stomach temperature transmitters. Foraging points were estimates as periods with rapid drops in stomach temperature, and surface landings taken from times when birds moved at under 2.8 m/s. Wind directions and speeds from all touchdown points were estimated using QuikSCAT daily level 3 gridded ocean wind vectors. This data comes from the SeaWinds scatterometer and records wind vector fields twice daily. Wind values cannot be produced for locations within 30km of land/ice. Backscatter recorded by the satellite is then processed through a Ku-band geophysical model function which derives surface wind speeds and direction. Rain contamination can be an issue due to difficulty in separating the backscatter effect of wind vs rain. The level value refers to the processing level of the data, starting at 0 (raw) through to 3 or 4."
   ]
  },
  {
   "cell_type": "code",
   "execution_count": 1,
   "metadata": {},
   "outputs": [],
   "source": [
    "using DataFrames, CSV, RCall, Plots, Geodesy, Dates, Distances, Statistics, Glob"
   ]
  },
  {
   "cell_type": "code",
   "execution_count": 4,
   "metadata": {},
   "outputs": [],
   "source": [
    "# FUNCTION FOR READING IN FORAGING AND WIND DATASETS\n",
    "function readDat(dataLocation, pattern, IDpattern, colnames, header, years, DateFormats)\n",
    "    files = glob(pattern, dataLocation)\n",
    "    yrIDs = unique(getindex.(match.(r\"(\\d+)Shearwater.*\",files),1) .* \"_\" .* getindex.(match.(IDpattern,files),1))\n",
    "    ret = [DataFrame() for _ in 1:length(yrIDs)]\n",
    "    for tg in 1:length(ret)\n",
    "        tgFiles = files[occursin.(yrIDs[tg][1:4],files) .& occursin.(\"/\"*yrIDs[tg][6:end],files)]\n",
    "        for file in tgFiles\n",
    "            append!(ret[tg], hcat(CSV.read(file, DataFrame, header = header), repeat([yrIDs[tg]], nrow(CSV.read(file, DataFrame, header = header)))), cols = :union)\n",
    "        end\n",
    "        rename!(ret[tg], colnames)\n",
    "        # assign datetime\n",
    "        ret[tg].DT = DateTime.(ret[tg].DT, DateFormats[occursin.(yrIDs[tg][1:4],years)])\n",
    "    end\n",
    "    return ret\n",
    "end\n",
    "# file locations for foraging and wind estimates\n",
    "if Sys.iswindows()\n",
    "    dataloc = \"E:/My Drive/PhD/Data/\"\n",
    "else\n",
    "    dataloc = \"/Volumes/GoogleDrive-112399531131798335686/My Drive/PhD/Data/\"\n",
    "end\n",
    "# bring in FORAGING AND GPS DATA\n",
    "fDat = readDat(dataloc,\"*/*/*/*/PredictedForage/*ForageGPS.txt\",r\".*PredictedForage/(.*)-20.*\",[:DT,:lat,:lon,:forage,:yrID],1,[\"2018\",\"2019\"],[dateformat\"d/m/y H:M:S.s\",dateformat\"d-u-y H:M:S.s\"])\n",
    "\n",
    "# bring in WIND ESTIMATES\n",
    "wDat = readDat(dataloc, \"*/*/MinDat/*.csv\", r\".*MinDat/(.*).csv\", [:DT,:lat,:lon,:head,:X,:Y,:yrID], 0, [\"2018\",\"2019\"],[dateformat\"y-m-d H:M:S\",dateformat\"y-m-d H:M:S\"]);"
   ]
  },
  {
   "cell_type": "code",
   "execution_count": 30,
   "metadata": {},
   "outputs": [
    {
     "data": {
      "text/plain": [
       "\"E:/My Drive/PhD/Data/2019Shearwater\\\\TxtDat\\\\AxyTrek\\\\BehaviourDetection\\\\PredictedForage\\\\1_S1-20190823ForageGPS.txt\""
      ]
     },
     "metadata": {},
     "output_type": "display_data"
    }
   ],
   "source": [
    "# files=glob(\"*/*/*/*/PredictedForage/*ForageGPS.txt\",dataloc)\n",
    "# unique(getindex.(match.(r\"(\\d+)Shearwater.*\",files),1) .* \"_\" .* getindex.(match.(r\".*PredictedForage(?:/|\\\\\\\\)(.*)-20.*\",files),1))\n",
    "# getindex(match.(r\".*PredictedForage(?:\\/\\/|/).*\",files[1]),1)\n",
    "files[1]"
   ]
  },
  {
   "cell_type": "code",
   "execution_count": 3,
   "metadata": {},
   "outputs": [
    {
     "ename": "UndefVarError",
     "evalue": "UndefVarError: fDat not defined",
     "output_type": "error",
     "traceback": [
      "UndefVarError: fDat not defined\n",
      "\n",
      "Stacktrace:\n",
      "  [1] top-level scope\n",
      "    @ g:\\Documents\\GitHub\\Olfactory\\Julia\\WindManuscript\\ManuscriptAnalysis.ipynb:10\n",
      "  [2] eval\n",
      "    @ .\\boot.jl:360 [inlined]\n",
      "  [3] include_string(mapexpr::typeof(REPL.softscope), mod::Module, code::String, filename::String)\n",
      "    @ Base .\\loading.jl:1116\n",
      "  [4] #invokelatest#2\n",
      "    @ .\\essentials.jl:708 [inlined]\n",
      "  [5] invokelatest\n",
      "    @ .\\essentials.jl:706 [inlined]\n",
      "  [6] (::VSCodeServer.var\"#160#161\"{VSCodeServer.NotebookRunCellArguments, String})()\n",
      "    @ VSCodeServer c:\\Users\\arang\\.vscode\\extensions\\julialang.language-julia-1.6.17\\scripts\\packages\\VSCodeServer\\src\\serve_notebook.jl:19\n",
      "  [7] withpath(f::VSCodeServer.var\"#160#161\"{VSCodeServer.NotebookRunCellArguments, String}, path::String)\n",
      "    @ VSCodeServer c:\\Users\\arang\\.vscode\\extensions\\julialang.language-julia-1.6.17\\scripts\\packages\\VSCodeServer\\src\\repl.jl:184\n",
      "  [8] notebook_runcell_request(conn::VSCodeServer.JSONRPC.JSONRPCEndpoint{Base.PipeEndpoint, Base.PipeEndpoint}, params::VSCodeServer.NotebookRunCellArguments)\n",
      "    @ VSCodeServer c:\\Users\\arang\\.vscode\\extensions\\julialang.language-julia-1.6.17\\scripts\\packages\\VSCodeServer\\src\\serve_notebook.jl:13\n",
      "  [9] dispatch_msg(x::VSCodeServer.JSONRPC.JSONRPCEndpoint{Base.PipeEndpoint, Base.PipeEndpoint}, dispatcher::VSCodeServer.JSONRPC.MsgDispatcher, msg::Dict{String, Any})\n",
      "    @ VSCodeServer.JSONRPC c:\\Users\\arang\\.vscode\\extensions\\julialang.language-julia-1.6.17\\scripts\\packages\\JSONRPC\\src\\typed.jl:67\n",
      " [10] serve_notebook(pipename::String, outputchannel_logger::Base.CoreLogging.SimpleLogger; crashreporting_pipename::String)\n",
      "    @ VSCodeServer c:\\Users\\arang\\.vscode\\extensions\\julialang.language-julia-1.6.17\\scripts\\packages\\VSCodeServer\\src\\serve_notebook.jl:136\n",
      " [11] top-level scope\n",
      "    @ c:\\Users\\arang\\.vscode\\extensions\\julialang.language-julia-1.6.17\\scripts\\notebook\\notebook.jl:32\n",
      " [12] include(mod::Module, _path::String)\n",
      "    @ Base .\\Base.jl:386\n",
      " [13] exec_options(opts::Base.JLOptions)\n",
      "    @ Base .\\client.jl:285\n",
      " [14] _start()\n",
      "    @ Base .\\client.jl:485"
     ]
    }
   ],
   "source": [
    "# add distance (m) and speed (kph) values\n",
    "function dist(lat,lon)\n",
    "    [sqrt.(diff(DataFrame(map(UTMZfromLLA(wgs84),LLA.(lat,lon))).x).^2 + diff(DataFrame(map(UTMZfromLLA(wgs84),LLA.(lat,lon))).y).^2);NaN]\n",
    "end\n",
    "function speed(dt,lat,lon)\n",
    "    tdiff = Dates.value.(Second.(diff(dt)))\n",
    "    spTrav = (dist(lat,lon)[1:end-1]./tdiff).*(3600/1000)\n",
    "    return [spTrav;NaN]\n",
    "end\n",
    "for x in fDat\n",
    "    x.distTrav = dist(x.lat,x.lon)\n",
    "    x.spTrav = speed(x.DT, x.lat, x.lon)\n",
    "end\n",
    "\n",
    "# find the nearest time (index)\n",
    "function findNearest(dt, time)\n",
    "    argmin(abs.(dt .- time))\n",
    "end\n",
    "# calculate linearity\n",
    "function linearity(dt,lat,lon,distance,twindow)\n",
    "    out = repeat([NaN], length(dt))\n",
    "    for b = 1:findNearest(dt,(dt[end] - Minute(twindow)))\n",
    "        nextPoint = b + findNearest(dt, dt[b] + (Minute(twindow))) - 1\n",
    "        if abs(dt[nextPoint] - dt[b]) < Minute(5)\n",
    "            out[b] = dist([lat[b],lat[nextPoint]],[lon[b],lon[nextPoint]])/sum(distance[b:nextPoint])\n",
    "        else\n",
    "            out[b] = NaN\n",
    "        end\n",
    "    end\n",
    "end\n",
    "\n",
    "linearity(fDat[1].DT,fDat[1].lat,fDat[1].lon,fDat[1].distTrav,51)"
   ]
  }
 ],
 "metadata": {
  "kernelspec": {
   "display_name": "Julia 1.6.2",
   "language": "julia",
   "name": "julia-1.6"
  },
  "language_info": {
   "file_extension": ".jl",
   "mimetype": "application/julia",
   "name": "julia",
   "version": "1.6.2"
  },
  "orig_nbformat": 4
 },
 "nbformat": 4,
 "nbformat_minor": 2
}
